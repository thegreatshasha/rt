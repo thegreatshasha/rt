{
 "cells": [
  {
   "cell_type": "code",
   "execution_count": 4,
   "metadata": {
    "collapsed": true
   },
   "outputs": [],
   "source": [
    "# Let's try ellipse encoding directly, no bullshit"
   ]
  },
  {
   "cell_type": "code",
   "execution_count": 96,
   "metadata": {},
   "outputs": [
    {
     "data": {
      "application/javascript": [
       "IPython.OutputArea.prototype._should_scroll = function(lines) {\n",
       "    return false;\n",
       "}"
      ],
      "text/plain": [
       "<IPython.core.display.Javascript object>"
      ]
     },
     "metadata": {},
     "output_type": "display_data"
    }
   ],
   "source": [
    "%%javascript\n",
    "IPython.OutputArea.prototype._should_scroll = function(lines) {\n",
    "    return false;\n",
    "}"
   ]
  },
  {
   "cell_type": "code",
   "execution_count": 15,
   "metadata": {
    "collapsed": true
   },
   "outputs": [],
   "source": [
    "\n",
    "from dataset_4channel import BeetleDataset\n",
    "import cv2\n",
    "import matplotlib.pyplot as plt\n",
    "import numpy as np"
   ]
  },
  {
   "cell_type": "code",
   "execution_count": 38,
   "metadata": {},
   "outputs": [
    {
     "data": {
      "image/png": "[encoded data removed]",
      "text/plain": [
       "<matplotlib.figure.Figure at 0x7f6ae51bb490>"
      ]
     },
     "metadata": {},
     "output_type": "display_data"
    }
   ],
   "source": [
    "raw_files = ['raw_densebox_1', 'raw_densebox_2', 'raw_densebox_3', 'raw_densebox_4', 'raw_densebox_5']\n",
    "label_files = ['class_lab_densebox_1', 'class_lab_densebox_2', 'class_lab_densebox_3', 'class_lab_densebox_4', 'class_lab_densebox_5']\n",
    "\n",
    "db = BeetleDataset(raw_files, label_files)\n",
    "#db = RotatedSquaresDataset()\n",
    "\n",
    "x_b,y_b,x_thresh_b=db.generate_batch(n=1)\n",
    "patch = x_thresh_b[0,0]\n",
    "plt.imshow(patch)\n",
    "plt.show()"
   ]
  },
  {
   "cell_type": "code",
   "execution_count": 198,
   "metadata": {},
   "outputs": [
    {
     "data": {
      "image/png": "[encoded data removed]",
      "text/plain": [
       "<matplotlib.figure.Figure at 0x7f6ae52d8ad0>"
      ]
     },
     "metadata": {},
     "output_type": "display_data"
    },
    {
     "name": "stdout",
     "output_type": "stream",
     "text": [
      "(0.7853981633974483, 0.7848666784154311)\n"
     ]
    }
   ],
   "source": [
    "\"\"\" Sloppy code for doing drawing \"\"\"\n",
    "\n",
    "from skimage.measure import label, regionprops\n",
    "from skimage.draw import ellipse\n",
    "import math\n",
    "\n",
    "plt.figure(figsize=(10,10))\n",
    "#for angle in range(0,180,5):\n",
    "patch2 = np.zeros((240,240))\n",
    "\n",
    "# Draw an ellipse\n",
    "angle = math.pi/4\n",
    "#cv2.ellipse(patch2, ((100,100),(100,20),angle), color=(255,0,0), thickness=20)\n",
    "rr,cc=ellipse(100,100,10,50,patch2.shape, rotation=angle)\n",
    "patch2[rr,cc]=1\n",
    "# Let's do some labelling\n",
    "\n",
    "# Fuck this, let's switch to skimage and regionprops\n",
    "# THis documentation sucks\n",
    "plt.imshow(patch2)\n",
    "plt.show()\n",
    "\n",
    "print(angle, regionprops(label(patch2))[0].orientation)"
   ]
  },
  {
   "cell_type": "code",
   "execution_count": 192,
   "metadata": {},
   "outputs": [
    {
     "data": {
      "text/plain": [
       "' Sloppy code for finding angles'"
      ]
     },
     "execution_count": 192,
     "metadata": {},
     "output_type": "execute_result"
    }
   ],
   "source": [
    "np.rad2deg()"
   ]
  },
  {
   "cell_type": "code",
   "execution_count": 195,
   "metadata": {},
   "outputs": [
    {
     "name": "stdout",
     "output_type": "stream",
     "text": [
      "(0.7853981633974483, 0.7848666784154311)\n"
     ]
    }
   ],
   "source": []
  },
  {
   "cell_type": "code",
   "execution_count": 189,
   "metadata": {},
   "outputs": [
    {
     "name": "stdout",
     "output_type": "stream",
     "text": [
      "Help on _RegionProperties in module skimage.measure._regionprops object:\n",
      "\n",
      "class _RegionProperties(__builtin__.object)\n",
      " |  Please refer to `skimage.measure.regionprops` for more information\n",
      " |  on the available region properties.\n",
      " |  \n",
      " |  Methods defined here:\n",
      " |  \n",
      " |  __eq__(self, other)\n",
      " |  \n",
      " |  __getitem__(self, key)\n",
      " |  \n",
      " |  __init__(self, slice, label, label_image, intensity_image, cache_active)\n",
      " |  \n",
      " |  __iter__(self)\n",
      " |  \n",
      " |  ----------------------------------------------------------------------\n",
      " |  Data descriptors defined here:\n",
      " |  \n",
      " |  __dict__\n",
      " |      dictionary for instance variables (if defined)\n",
      " |  \n",
      " |  __weakref__\n",
      " |      list of weak references to the object (if defined)\n",
      " |  \n",
      " |  area\n",
      " |      Number of pixels of region.\n",
      " |  \n",
      " |  bbox\n",
      " |      Bounding box ``(min_row, min_col, max_row, max_col)``.\n",
      " |      Pixels belonging to the bounding box are in the half-open interval\n",
      " |      ``[min_row; max_row)`` and ``[min_col; max_col)``.\n",
      " |  \n",
      " |  bbox_area\n",
      " |      Number of pixels of bounding box.\n",
      " |  \n",
      " |  centroid\n",
      " |      Centroid coordinate tuple ``(row, col)``.\n",
      " |  \n",
      " |  convex_area\n",
      " |      Number of pixels of convex hull image.\n",
      " |  \n",
      " |  convex_image\n",
      " |      Binary convex hull image which has the same size as bounding box.\n",
      " |  \n",
      " |  coords\n",
      " |      Coordinate list ``(row, col)`` of the region.\n",
      " |  \n",
      " |  eccentricity\n",
      " |      Eccentricity of the ellipse that has the same second-moments as the\n",
      " |      region. The eccentricity is the ratio of the focal distance\n",
      " |      (distance between focal points) over the major axis length.\n",
      " |      The value is in the interval [0, 1).\n",
      " |      When it is 0, the ellipse becomes a circle.\n",
      " |  \n",
      " |  equivalent_diameter\n",
      " |      The diameter of a circle with the same area as the region.\n",
      " |  \n",
      " |  euler_number\n",
      " |      Euler characteristic of region. Computed as number of objects (= 1)\n",
      " |      subtracted by number of holes (8-connectivity).\n",
      " |  \n",
      " |  extent\n",
      " |      Ratio of pixels in the region to pixels in the total bounding box.\n",
      " |      Computed as ``area / (rows * cols)``\n",
      " |  \n",
      " |  filled_area\n",
      " |      Number of pixels of filled region.\n",
      " |  \n",
      " |  filled_image\n",
      " |      Binary region image with filled holes which has the same size as\n",
      " |      bounding box.\n",
      " |  \n",
      " |  image\n",
      " |      Sliced binary region image which has the same size as bounding box.\n",
      " |  \n",
      " |  inertia_tensor\n",
      " |      Inertia tensor of the region for the rotation around its mass.\n",
      " |  \n",
      " |  inertia_tensor_eigvals\n",
      " |      The two eigen values of the inertia tensor in decreasing order.\n",
      " |  \n",
      " |  intensity_image\n",
      " |      Image inside region bounding box.\n",
      " |  \n",
      " |  local_centroid\n",
      " |      Centroid coordinate tuple ``(row, col)``, relative to region bounding\n",
      " |      box.\n",
      " |  \n",
      " |  major_axis_length\n",
      " |      The length of the major axis of the ellipse that has the same\n",
      " |      normalized second central moments as the region.\n",
      " |  \n",
      " |  max_intensity\n",
      " |      Value with the greatest intensity in the region.\n",
      " |  \n",
      " |  mean_intensity\n",
      " |      Value with the mean intensity in the region.\n",
      " |  \n",
      " |  min_intensity\n",
      " |      Value with the least intensity in the region.\n",
      " |  \n",
      " |  minor_axis_length\n",
      " |      The length of the minor axis of the ellipse that has the same\n",
      " |      normalized second central moments as the region.\n",
      " |  \n",
      " |  moments\n",
      " |      Spatial moments up to 3rd order::\n",
      " |      \n",
      " |          m_ji = sum{ array(x, y) * x^j * y^i }\n",
      " |      \n",
      " |      where the sum is over the `x`, `y` coordinates of the region.\n",
      " |  \n",
      " |  moments_central\n",
      " |      Central moments (translation invariant) up to 3rd order::\n",
      " |      \n",
      " |          mu_ji = sum{ array(x, y) * (x - x_c)^j * (y - y_c)^i }\n",
      " |      \n",
      " |      where the sum is over the `x`, `y` coordinates of the region,\n",
      " |      and `x_c` and `y_c` are the coordinates of the region's centroid.\n",
      " |  \n",
      " |  moments_hu\n",
      " |      Hu moments (translation, scale and rotation invariant).\n",
      " |  \n",
      " |  moments_normalized\n",
      " |      Normalized moments (translation and scale invariant) up to 3rd order::\n",
      " |      \n",
      " |          nu_ji = mu_ji / m_00^[(i+j)/2 + 1]\n",
      " |      \n",
      " |      where `m_00` is the zeroth spatial moment.\n",
      " |  \n",
      " |  orientation\n",
      " |      Angle between the X-axis and the major axis of the ellipse that has\n",
      " |      the same second-moments as the region. Ranging from `-pi/2` to\n",
      " |      `pi/2` in counter-clockwise direction.\n",
      " |  \n",
      " |  perimeter\n",
      " |      Perimeter of object which approximates the contour as a line\n",
      " |      through the centers of border pixels using a 4-connectivity.\n",
      " |  \n",
      " |  solidity\n",
      " |      Ratio of pixels in the region to pixels of the convex hull image.\n",
      " |  \n",
      " |  weighted_centroid\n",
      " |      Centroid coordinate tuple ``(row, col)`` weighted with intensity\n",
      " |      image.\n",
      " |  \n",
      " |  weighted_local_centroid\n",
      " |      Centroid coordinate tuple ``(row, col)``, relative to region bounding\n",
      " |      box, weighted with intensity image.\n",
      " |  \n",
      " |  weighted_moments\n",
      " |      Spatial moments of intensity image up to 3rd order::\n",
      " |      \n",
      " |          wm_ji = sum{ array(x, y) * x^j * y^i }\n",
      " |      \n",
      " |      where the sum is over the `x`, `y` coordinates of the region.\n",
      " |  \n",
      " |  weighted_moments_central\n",
      " |      Central moments (translation invariant) of intensity image up to\n",
      " |      3rd order::\n",
      " |      \n",
      " |          wmu_ji = sum{ array(x, y) * (x - x_c)^j * (y - y_c)^i }\n",
      " |      \n",
      " |      where the sum is over the `x`, `y` coordinates of the region,\n",
      " |      and `x_c` and `y_c` are the coordinates of the region's weighted\n",
      " |      centroid.\n",
      " |  \n",
      " |  weighted_moments_hu\n",
      " |      Hu moments (translation, scale and rotation invariant) of intensity\n",
      " |      image.\n",
      " |  \n",
      " |  weighted_moments_normalized\n",
      " |      Normalized moments (translation and scale invariant) of intensity\n",
      " |      image up to 3rd order::\n",
      " |      \n",
      " |          wnu_ji = wmu_ji / wm_00^[(i+j)/2 + 1]\n",
      " |      \n",
      " |      where ``wm_00`` is the zeroth spatial moment (intensity-weighted area).\n",
      "\n"
     ]
    }
   ],
   "source": [
    "help(r)"
   ]
  },
  {
   "cell_type": "code",
   "execution_count": null,
   "metadata": {
    "collapsed": true
   },
   "outputs": [],
   "source": []
  }
 ],
 "metadata": {
  "kernelspec": {
   "display_name": "Python 2",
   "language": "python",
   "name": "python2"
  },
  "language_info": {
   "codemirror_mode": {
    "name": "ipython",
    "version": 2
   },
   "file_extension": ".py",
   "mimetype": "text/x-python",
   "name": "python",
   "nbconvert_exporter": "python",
   "pygments_lexer": "ipython2",
   "version": "2.7.12"
  }
 },
 "nbformat": 4,
 "nbformat_minor": 2
}
