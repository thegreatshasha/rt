{
 "cells": [
  {
   "cell_type": "markdown",
   "metadata": {
    "toc": "true"
   },
   "source": [
    "# Table of Contents\n",
    " <p>"
   ]
  },
  {
   "cell_type": "code",
   "execution_count": 1,
   "metadata": {},
   "outputs": [
    {
     "data": {
      "application/javascript": [
       "IPython.OutputArea.prototype._should_scroll = function(lines) {\n",
       "    return false;\n",
       "}"
      ],
      "text/plain": [
       "<IPython.core.display.Javascript object>"
      ]
     },
     "metadata": {},
     "output_type": "display_data"
    }
   ],
   "source": [
    "%%javascript\n",
    "IPython.OutputArea.prototype._should_scroll = function(lines) {\n",
    "    return false;\n",
    "}"
   ]
  },
  {
   "cell_type": "code",
   "execution_count": 2,
   "metadata": {
    "collapsed": true
   },
   "outputs": [],
   "source": [
    "from skimage.transform import rescale\n",
    "import numpy as np\n",
    "import matplotlib.pyplot as plt\n",
    "import cv2\n",
    "from scipy.misc import imread\n",
    "\n",
    "class BeetleDataset:\n",
    "    \n",
    "    def __init__(self, raw_files, label_files):\n",
    "        self.raw_files = raw_files\n",
    "        self.label_files = label_files\n",
    "        self.raw_imgs = [imread(f, mode='RGB') for f in self.raw_files]\n",
    "        self.label_imgs = [imread(f, mode='RGB') for f in self.label_files]\n",
    "    \n",
    "    def generate_batch(self, n=100):\n",
    "        \"\"\"\n",
    "        Generates a tensor of images with n randomly places squares. Images are of size 240x240.\n",
    "        Randomly select a file\n",
    "        Extract a random patch\n",
    "        DO this until batch generation is complete\n",
    "        \n",
    "            n (int): Batch size\n",
    "        \n",
    "        Returns:\n",
    "            imgs (n, 3, 320, 320): RGB image tensor\n",
    "            labels (n, v(n), 4): Numpy array with variable no of boxes per image\n",
    "        \"\"\"\n",
    "        images = []\n",
    "        labels = []\n",
    "        \n",
    "        n_count = 0\n",
    "\n",
    "        while n_count<n:\n",
    "            idx = np.random.choice(np.arange(len(self.raw_imgs)))\n",
    "            \n",
    "            raw_img = self.raw_imgs[idx]\n",
    "            label_img = self.label_imgs[idx]\n",
    "        \n",
    "            patch, patch_bw = self.get_random_patch(raw_img, label_img)\n",
    "            boxes = self.generate_boxes(patch_bw)\n",
    "            \n",
    "            # At least one label in the box\n",
    "            if len(boxes):\n",
    "                images.append(patch)\n",
    "                labels.append(boxes)\n",
    "                n_count += 1\n",
    "\n",
    "        return np.array(images), np.array(labels)\n",
    "        \n",
    "    def get_random_patch(self, raw_img, label_img, size=160):\n",
    "        # Sample centre\n",
    "        cx = np.random.randint(0+size/2, raw_img.shape[1]-size/2)\n",
    "        cy = np.random.randint(0+size/2, raw_img.shape[0]-size/2)\n",
    "        \n",
    "        # Extract and rescale patch\n",
    "        patch_raw = raw_img[cy-size/2:cy+size/2,cx-size/2:cx+size/2]\n",
    "        patch_label = label_img[cy-size/2:cy+size/2,cx-size/2:cx+size/2]\n",
    "        \n",
    "        # Upsample both raw and label patch\n",
    "        patch_resized_raw = rescale(patch_raw, 2)\n",
    "        patch_resized_label = rescale(patch_label, 2)\n",
    "        patch_resized_bw = np.zeros((patch_resized_label.shape[0], patch_resized_label.shape[1]))\n",
    "        \n",
    "        # Extract the ellipse region separately\n",
    "        indices = np.where(patch_resized_label==[0,0,255])\n",
    "        patch_resized_bw[indices[0],indices[1]]=1\n",
    "\n",
    "        return patch_resized_raw, patch_resized_bw\n",
    "    \n",
    "    def visualize_batch(self, x, y):\n",
    "        # Allows one to visualize a batch for visual verification\n",
    "        # Run training first, then run visual verification for initiation\n",
    "        \n",
    "        for x_img, y_boxes in zip(x, y):\n",
    "            fig = plt.figure(figsize=(10,10))\n",
    "            # Show the img\n",
    "            \n",
    "            for y_box in y_boxes:\n",
    "                cv2.line(x_img,(y_box[0], y_box[1]),(y_box[2], y_box[3]),(255,0,0),3)\n",
    "            \n",
    "            plt.imshow(x_img)\n",
    "            fig.text(0.5, 0.05, str(x_img.shape), ha='center')\n",
    "\n",
    "            plt.show()\n",
    "    \n",
    "    def generate_boxes(self, patch):\n",
    "        # Find all contours\n",
    "        contours, hierarchy = cv2.findContours(patch.astype(np.uint8),cv2.RETR_TREE,cv2.CHAIN_APPROX_SIMPLE)\n",
    "\n",
    "        boxes = []\n",
    "\n",
    "        for cnt in contours:\n",
    "            # Find rotated box\n",
    "            rect = cv2.minAreaRect(cnt)\n",
    "\n",
    "            box = cv2.cv.BoxPoints(rect)\n",
    "            box = np.int0(box)\n",
    "\n",
    "            # Find left most and right most point\n",
    "            p_left = box[box[:,0].argmin(),:]\n",
    "            p_right = box[box[:,0].argmax(),:]\n",
    "\n",
    "            # Add if condition to check that area of box is fine\n",
    "            box_final = np.hstack([p_left, p_right])\n",
    "            boxes.append(box_final)\n",
    "            #cv2.drawContours(patch_resized, [box], -1, (255,0,0),2)\n",
    "            #cv2.line(patch_resized,(box_final[0], box_final[1]),(box_final[2], box_final[3]),(255,0,0),3)\n",
    "\n",
    "        return np.array(boxes)"
   ]
  },
  {
   "cell_type": "code",
   "execution_count": 9,
   "metadata": {},
   "outputs": [
    {
     "name": "stdout",
     "output_type": "stream",
     "text": [
      "[pawan_files d7e5735] adding all files before making big changes\n",
      " 15 files changed, 1975 insertions(+), 568 deletions(-)\n",
      " create mode 100644 PatchGenerationMinimalWorkingExample.ipynb\n",
      " rewrite RotationEllipseDetection.ipynb (73%)\n",
      " create mode 100644 TrainingRotation-Pfunctions-multi-square.ipynb\n",
      " create mode 100644 class_lab_densebox_1\n",
      " create mode 100644 class_lab_densebox_2\n",
      " create mode 100644 class_lab_densebox_3\n",
      " create mode 100644 class_lab_densebox_4\n",
      " create mode 100644 class_lab_densebox_5\n",
      " create mode 100644 raw_densebox_1\n",
      " create mode 100644 raw_densebox_2\n",
      " create mode 100644 raw_densebox_3\n",
      " create mode 100644 raw_densebox_4\n",
      " create mode 100644 raw_densebox_5\n"
     ]
    }
   ],
   "source": [
    "!git commit -am \"adding all files before making big changes\""
   ]
  },
  {
   "cell_type": "code",
   "execution_count": 4,
   "metadata": {},
   "outputs": [],
   "source": [
    "raw_files = ['raw_densebox_1', 'raw_densebox_2', 'raw_densebox_3', 'raw_densebox_4', 'raw_densebox_5']\n",
    "label_files = ['class_lab_densebox_1', 'class_lab_densebox_2', 'class_lab_densebox_3', 'class_lab_densebox_4', 'class_lab_densebox_5']\n",
    "db = BeetleDataset(raw_files, label_files)\n",
    "\n",
    "x_b,y_b=db.generate_batch(n=5)\n",
    "db.visualize_batch(x_b,y_b)\n",
    "# Why is the magnification non uniform? Huh Huh HUH?"
   ]
  }
 ],
 "metadata": {
  "kernelspec": {
   "display_name": "Python 2",
   "language": "python",
   "name": "python2"
  },
  "language_info": {
   "codemirror_mode": {
    "name": "ipython",
    "version": 2
   },
   "file_extension": ".py",
   "mimetype": "text/x-python",
   "name": "python",
   "nbconvert_exporter": "python",
   "pygments_lexer": "ipython2",
   "version": "2.7.12"
  },
  "toc": {
   "colors": {
    "hover_highlight": "#DAA520",
    "navigate_num": "#000000",
    "navigate_text": "#333333",
    "running_highlight": "#FF0000",
    "selected_highlight": "#FFD700",
    "sidebar_border": "#EEEEEE",
    "wrapper_background": "#FFFFFF"
   },
   "moveMenuLeft": true,
   "navigate_menu": false,
   "number_sections": true,
   "sideBar": true,
   "threshold": 4,
   "toc_cell": true,
   "toc_section_display": "block",
   "toc_window_display": true,
   "widenNotebook": false
  }
 },
 "nbformat": 4,
 "nbformat_minor": 2
}
