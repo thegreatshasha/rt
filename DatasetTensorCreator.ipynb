{
 "cells": [
  {
   "cell_type": "markdown",
   "metadata": {},
   "source": [
    "## Logic\n",
    "* Create a batch of 100 240x240 images.\n",
    "* Object size should be around 40.\n",
    "* Generate tensor of images and their corresponding list of lists of list labels object.\n",
    "* Draw boxes on image and generate it.\n",
    "* Have a dataset class which can do all of this on the fly."
   ]
  },
  {
   "cell_type": "code",
   "execution_count": 105,
   "metadata": {
    "collapsed": true
   },
   "outputs": [],
   "source": [
    "from chainer import dataset\n",
    "import numpy as np\n",
    "import matplotlib.pyplot as plt\n",
    "\n",
    "class SquaresDataset:\n",
    "    def __init__(self):\n",
    "        pass\n",
    "    \n",
    "    def load(self):\n",
    "        pass\n",
    "    \n",
    "    def encode_labels(self, labels):\n",
    "        \"\"\"\n",
    "        Encodes a list of labels as y tensor\n",
    "        \n",
    "        Args:\n",
    "            labels: List of list of boxes\n",
    "            \n",
    "        Returns:\n",
    "            gt_loc (n,1): \n",
    "        \"\"\"\n",
    "        pass\n",
    "    \n",
    "    def generate_batch(self, n=100, h=70, w=70, img_h=240, img_w=240):\n",
    "        \"\"\"\n",
    "        Generates a tensor of images with n randomly places squares. Images are of size 240x240.\n",
    "        \n",
    "        Args:\n",
    "            n (int): Batch size\n",
    "            h (int): Height of each square\n",
    "            w (int): Height of each square\n",
    "        \n",
    "        Returns:\n",
    "            imgs (n, 3, 240, 240): RGB image tensor\n",
    "            labels (n, v(n), 4): Numpy array with variable no of boxes per image\n",
    "        \"\"\"\n",
    "        # image tensor\n",
    "        imgs = np.zeros((n,3,240,240), dtype=np.float32)\n",
    "        labels = []\n",
    "\n",
    "        for img in imgs:\n",
    "            num_boxes = np.random.randint(2,4)\n",
    "\n",
    "            boxes = []\n",
    "            for i in xrange(num_boxes):\n",
    "                tx = np.random.randint(0, 239-w)\n",
    "                ty = np.random.randint(0, 239-h)\n",
    "                box = np.array([tx,ty,tx+w,ty+h])\n",
    "                img[:,ty:ty+h,tx:tx+w] = 1\n",
    "                boxes.append(box)\n",
    "            \n",
    "            labels.append(np.array(boxes))\n",
    "        \n",
    "        return imgs, np.array(labels)\n",
    "    \n",
    "    def visualize_batch(self, imgs, labels):\n",
    "        \"\"\" \n",
    "        Takes a batch of images and labels and plots them\n",
    "        \n",
    "        Args:\n",
    "            imgs (n, 3, 240, 240): Tensor of images\n",
    "            labels: list of list of boxes/img, each box in (tx, ty, bx, by) format\n",
    "            \n",
    "        Returns:\n",
    "            Nothing, really\n",
    "        \"\"\"\n",
    "        \n",
    "        for i, img in enumerate(imgs):\n",
    "            \n",
    "            boxes = labels[i]\n",
    "            ax = plt.gca()\n",
    "            ax.imshow(img[0])\n",
    "\n",
    "            for box in boxes:\n",
    "                ax.add_patch(plt.Rectangle((box[0], box[1]), box[2]-box[0], box[3] - box[1], fill=False, color='red'))\n",
    "            plt.show()\n",
    "    \n",
    "    def encode(self):\n",
    "        pass\n",
    "    \n",
    "    def get_example(self, i):\n",
    "        # Here we generate and encode the \n",
    "        pass"
   ]
  },
  {
   "cell_type": "code",
   "execution_count": 106,
   "metadata": {
    "collapsed": true
   },
   "outputs": [],
   "source": [
    "db = SquaresDataset()"
   ]
  },
  {
   "cell_type": "code",
   "execution_count": 107,
   "metadata": {},
   "outputs": [
    {
     "data": {
      "image/png": "[encoded data removed]",
      "text/plain": [
       "<matplotlib.figure.Figure at 0x7ff9e4838cd0>"
      ]
     },
     "metadata": {},
     "output_type": "display_data"
    },
    {
     "data": {
      "image/png": "[encoded data removed]",
      "text/plain": [
       "<matplotlib.figure.Figure at 0x7ff9e4717a90>"
      ]
     },
     "metadata": {},
     "output_type": "display_data"
    },
    {
     "data": {
      "image/png": "[encoded data removed]",
      "text/plain": [
       "<matplotlib.figure.Figure at 0x7ff9e483e790>"
      ]
     },
     "metadata": {},
     "output_type": "display_data"
    }
   ],
   "source": [
    "imgs, labels = db.generate_batch(n=3)\n",
    "db.visualize_batch(imgs, labels)"
   ]
  },
  {
   "cell_type": "markdown",
   "metadata": {},
   "source": [
    "## Encoding example\n",
    "* Threshold each image individually and generate a gt_class probaiblity mask.\n",
    "* Find all the points where the gt_class mask > 0.\n",
    "* Initialize gt_loc as zeros.a\n",
    "* For the positive points, find the nearest square box amongst the set of labels.\n",
    "  * For each box, set its center to average to top left and bottom right.\n",
    "  * Inititialize closeness as infinity.\n",
    "  * Match box and set its four channels based on the offset from top left and bottom right.\n",
    "* Generate selection_mask.\n",
    "* Calculate classification loss."
   ]
  },
  {
   "cell_type": "code",
   "execution_count": 108,
   "metadata": {
    "collapsed": true
   },
   "outputs": [],
   "source": [
    "\"\"\" Encoding code, add here and then move to the \"\"\"\n",
    "gt_class = np.zeros((imgs.shape[0], imgs.shape[2], imgs.shape[3]))\n",
    "gt_class[imgs[:,0,:,:]==1]=1 # Maybe we should consider a more interior region?\n",
    "gt_class = gt_class.reshape(imgs.shape[0], 1, imgs.shape[2], imgs.shape[3])"
   ]
  },
  {
   "cell_type": "code",
   "execution_count": 109,
   "metadata": {},
   "outputs": [
    {
     "data": {
      "image/png": "[encoded data removed]",
      "text/plain": [
       "<matplotlib.figure.Figure at 0x7ff9e3b03450>"
      ]
     },
     "metadata": {},
     "output_type": "display_data"
    },
    {
     "data": {
      "image/png": "[encoded data removed]",
      "text/plain": [
       "<matplotlib.figure.Figure at 0x7ff9e444c650>"
      ]
     },
     "metadata": {},
     "output_type": "display_data"
    },
    {
     "data": {
      "image/png": "[encoded data removed]",
      "text/plain": [
       "<matplotlib.figure.Figure at 0x7ff9e3dc6dd0>"
      ]
     },
     "metadata": {},
     "output_type": "display_data"
    }
   ],
   "source": [
    "for i in xrange(gt_class.shape[0]):\n",
    "\n",
    "    plt.imshow(gt_class[i,0])\n",
    "    plt.show()"
   ]
  },
  {
   "cell_type": "markdown",
   "metadata": {},
   "source": [
    "Ok we are able to generate the gt_class probability tensor"
   ]
  },
  {
   "cell_type": "code",
   "execution_count": 110,
   "metadata": {},
   "outputs": [
    {
     "data": {
      "text/plain": [
       "(3, 4)"
      ]
     },
     "execution_count": 110,
     "metadata": {},
     "output_type": "execute_result"
    }
   ],
   "source": [
    "labels[2].shape"
   ]
  },
  {
   "cell_type": "code",
   "execution_count": 111,
   "metadata": {},
   "outputs": [
    {
     "name": "stdout",
     "output_type": "stream",
     "text": [
      "(array([[[ 0.,  0.,  0., ...,  0.,  0.,  0.],\n",
      "        [ 0.,  0.,  0., ...,  0.,  0.,  0.],\n",
      "        [ 0.,  0.,  0., ...,  0.,  0.,  0.],\n",
      "        ..., \n",
      "        [ 0.,  0.,  0., ...,  0.,  0.,  0.],\n",
      "        [ 0.,  0.,  0., ...,  0.,  0.,  0.],\n",
      "        [ 0.,  0.,  0., ...,  0.,  0.,  0.]]]), array([[ 72,  97, 142, 167],\n",
      "       [141, 149, 211, 219],\n",
      "       [ 87, 141, 157, 211]]))\n",
      "(array([[[ 0.,  0.,  0., ...,  0.,  0.,  0.],\n",
      "        [ 0.,  0.,  0., ...,  0.,  0.,  0.],\n",
      "        [ 0.,  0.,  0., ...,  0.,  0.,  0.],\n",
      "        ..., \n",
      "        [ 0.,  0.,  0., ...,  0.,  0.,  0.],\n",
      "        [ 0.,  0.,  0., ...,  0.,  0.,  0.],\n",
      "        [ 0.,  0.,  0., ...,  0.,  0.,  0.]]]), array([[131, 139, 201, 209],\n",
      "       [ 58,  14, 128,  84]]))\n",
      "(array([[[ 0.,  0.,  0., ...,  0.,  0.,  0.],\n",
      "        [ 0.,  0.,  0., ...,  0.,  0.,  0.],\n",
      "        [ 0.,  0.,  0., ...,  0.,  0.,  0.],\n",
      "        ..., \n",
      "        [ 0.,  0.,  0., ...,  0.,  0.,  0.],\n",
      "        [ 0.,  0.,  0., ...,  0.,  0.,  0.],\n",
      "        [ 0.,  0.,  0., ...,  0.,  0.,  0.]]]), array([[  9, 104,  79, 174],\n",
      "       [ 41, 114, 111, 184],\n",
      "       [159,  35, 229, 105]]))\n"
     ]
    }
   ],
   "source": [
    "for gt_c, boxes in zip(gt_class, labels):\n",
    "    print(gt_c, boxes)\n",
    "    \"\"\" Matching code here \"\"\""
   ]
  },
  {
   "cell_type": "code",
   "execution_count": null,
   "metadata": {
    "collapsed": true
   },
   "outputs": [],
   "source": []
  }
 ],
 "metadata": {
  "kernelspec": {
   "display_name": "Python 2",
   "language": "python",
   "name": "python2"
  },
  "language_info": {
   "codemirror_mode": {
    "name": "ipython",
    "version": 2
   },
   "file_extension": ".py",
   "mimetype": "text/x-python",
   "name": "python",
   "nbconvert_exporter": "python",
   "pygments_lexer": "ipython2",
   "version": "2.7.12"
  }
 },
 "nbformat": 4,
 "nbformat_minor": 2
}
