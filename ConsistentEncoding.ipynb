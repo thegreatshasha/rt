{
 "cells": [
  {
   "cell_type": "code",
   "execution_count": 1,
   "metadata": {},
   "outputs": [
    {
     "data": {
      "application/javascript": [
       "IPython.OutputArea.prototype._should_scroll = function(lines) {\n",
       "    return false;\n",
       "}"
      ],
      "text/plain": [
       "<IPython.core.display.Javascript object>"
      ]
     },
     "metadata": {},
     "output_type": "display_data"
    }
   ],
   "source": [
    "%%javascript\n",
    "IPython.OutputArea.prototype._should_scroll = function(lines) {\n",
    "    return false;\n",
    "}"
   ]
  },
  {
   "cell_type": "code",
   "execution_count": 2,
   "metadata": {},
   "outputs": [
    {
     "data": {
      "image/png": "[encoded data removed]",
      "text/plain": [
       "<matplotlib.figure.Figure at 0x7f8aea39de50>"
      ]
     },
     "metadata": {},
     "output_type": "display_data"
    }
   ],
   "source": [
    "import cv2\n",
    "import numpy as np\n",
    "import matplotlib.pyplot as plt\n",
    "\n",
    "# Draw an arbitray quadilateral\n",
    "def draw_quadilateral(img, pts):\n",
    "    pts = pts.reshape((-1,1,2))\n",
    "    cv2.polylines(img,[pts],True,(0,255,255))\n",
    "    return img\n",
    "\n",
    "img = np.zeros((128,128,3), np.uint8)\n",
    "quad = np.array([[1,4], [2,1], [4,0], [5,3]])\n",
    "#quad = np.array([[10,5],[20,30],[70,20],[50,10]], np.int32)\n",
    "\n",
    "draw_quadilateral(img, quad)\n",
    "\n",
    "#plt.figure(figsize=(12,12))\n",
    "plt.imshow(img)\n",
    "plt.show()"
   ]
  },
  {
   "cell_type": "markdown",
   "metadata": {},
   "source": [
    "## Let's write some code for finding the two diagonals"
   ]
  },
  {
   "cell_type": "code",
   "execution_count": 35,
   "metadata": {
    "collapsed": true
   },
   "outputs": [],
   "source": [
    "from scipy.spatial import ConvexHull\n",
    "\n",
    "def draw_quad(img, quad):\n",
    "    cv2.line(img, tuple(quad[0]), tuple(quad[1]), color=(255,0,0))\n",
    "    cv2.line(img, tuple(quad[1]), tuple(quad[2]), color=(0,255,0))\n",
    "    cv2.line(img, tuple(quad[2]), tuple(quad[3]), color=(0,0,255))\n",
    "    cv2.line(img, tuple(quad[3]), tuple(quad[0]), color=(255,255,0))\n",
    "\n",
    "def slope(p1, p2):\n",
    "    \"\"\"\n",
    "    Calculates slope of two 2x1 points\n",
    "    \n",
    "    Args:\n",
    "        p1 (2,1): x1, y1\n",
    "        p2 (2,1): x2, y2\n",
    "        \n",
    "    Returns:\n",
    "        slope (scalar): Slope of the line between the two points\n",
    "    \"\"\"\n",
    "    if p2[0] == p1[0]:\n",
    "        return np.inf\n",
    "    else:\n",
    "        return float(p2[1]-p1[1])/float(p2[0]-p1[0])\n",
    "\n",
    "def order_pts(pts):\n",
    "    \"\"\"\n",
    "    Takes a list of pts and finds a structured labelling to it\n",
    "    \n",
    "    Args:\n",
    "        pts (4,2): 4x2 list of unordered pts\n",
    "        \n",
    "    Returns:\n",
    "        pts_u (4,2): 4x2 list of ordered pts\n",
    "    \"\"\"\n",
    "    pts_u = pts.copy()\n",
    "    hull = ConvexHull(pts)\n",
    "    pts_u = hull.points[hull.vertices]\n",
    "    print(pts_u.shape)\n",
    "    \n",
    "    # This gives us diametrically opposite points\n",
    "    diag1 = pts_u[0::2]\n",
    "    diag2 = pts_u[1::2]\n",
    "    \n",
    "    diags = [diag1, diag2]\n",
    "    \n",
    "    diag_idsx = np.argmax([slope(*list(diag1)), slope(*list(diag2))])\n",
    "    \n",
    "    x_idsx = diags[diag_idsx][:,0].argmin()\n",
    "    \n",
    "    min_x_1 = diags[diag_idsx][x_idsx]\n",
    "    \n",
    "    while not np.array_equal(pts_u[0], min_x_1):\n",
    "        pts_u = np.roll(pts_u, 1, axis=0)\n",
    "    \n",
    "    return pts_u\n",
    "\n",
    "def random_quadilateral():\n",
    "    verts = []\n",
    "    \n",
    "    for i in xrange(4):\n",
    "        verts.append([np.random.randint(0,400),np.random.randint(0,400)])\n",
    "        \n",
    "    return np.array(verts)\n",
    "    #return np.array([[0,0], [100,100], [100,0], [0,100]]) + 100"
   ]
  },
  {
   "cell_type": "code",
   "execution_count": null,
   "metadata": {
    "collapsed": true
   },
   "outputs": [],
   "source": []
  },
  {
   "cell_type": "code",
   "execution_count": 36,
   "metadata": {},
   "outputs": [
    {
     "name": "stdout",
     "output_type": "stream",
     "text": [
      "[[355  47]\n",
      " [372 393]\n",
      " [204  98]\n",
      " [383 193]]\n"
     ]
    },
    {
     "data": {
      "image/png": "[encoded data removed]",
      "text/plain": [
       "<matplotlib.figure.Figure at 0x7f8ae43ece50>"
      ]
     },
     "metadata": {},
     "output_type": "display_data"
    },
    {
     "name": "stdout",
     "output_type": "stream",
     "text": [
      "(4, 2)\n"
     ]
    },
    {
     "data": {
      "image/png": "[encoded data removed]",
      "text/plain": [
       "<matplotlib.figure.Figure at 0x7f8ae468b290>"
      ]
     },
     "metadata": {},
     "output_type": "display_data"
    },
    {
     "name": "stdout",
     "output_type": "stream",
     "text": [
      "[[276 286]\n",
      " [ 51  27]\n",
      " [151  27]\n",
      " [215  34]]\n"
     ]
    },
    {
     "data": {
      "image/png": "[encoded data removed]",
      "text/plain": [
       "<matplotlib.figure.Figure at 0x7f8ae43de550>"
      ]
     },
     "metadata": {},
     "output_type": "display_data"
    },
    {
     "name": "stdout",
     "output_type": "stream",
     "text": [
      "(4, 2)\n"
     ]
    },
    {
     "data": {
      "image/png": "[encoded data removed]",
      "text/plain": [
       "<matplotlib.figure.Figure at 0x7f8ae46a0f90>"
      ]
     },
     "metadata": {},
     "output_type": "display_data"
    },
    {
     "name": "stdout",
     "output_type": "stream",
     "text": [
      "[[167 318]\n",
      " [  0 193]\n",
      " [329 238]\n",
      " [331 256]]\n"
     ]
    },
    {
     "data": {
      "image/png": "[encoded data removed]",
      "text/plain": [
       "<matplotlib.figure.Figure at 0x7f8b1d827cd0>"
      ]
     },
     "metadata": {},
     "output_type": "display_data"
    },
    {
     "name": "stdout",
     "output_type": "stream",
     "text": [
      "(4, 2)\n"
     ]
    },
    {
     "data": {
      "image/png": "[encoded data removed]",
      "text/plain": [
       "<matplotlib.figure.Figure at 0x7f8ae467b490>"
      ]
     },
     "metadata": {},
     "output_type": "display_data"
    },
    {
     "name": "stdout",
     "output_type": "stream",
     "text": [
      "[[278 216]\n",
      " [ 24 160]\n",
      " [ 72 338]\n",
      " [190 223]]\n"
     ]
    },
    {
     "data": {
      "image/png": "[encoded data removed]",
      "text/plain": [
       "<matplotlib.figure.Figure at 0x7f8ae767cdd0>"
      ]
     },
     "metadata": {},
     "output_type": "display_data"
    },
    {
     "name": "stdout",
     "output_type": "stream",
     "text": [
      "(3, 2)\n",
      "error\n",
      "[[ 29 194]\n",
      " [169 197]\n",
      " [379 118]\n",
      " [198 267]]\n"
     ]
    },
    {
     "data": {
      "image/png": "[encoded data removed]",
      "text/plain": [
       "<matplotlib.figure.Figure at 0x7f8ae42e2cd0>"
      ]
     },
     "metadata": {},
     "output_type": "display_data"
    },
    {
     "name": "stdout",
     "output_type": "stream",
     "text": [
      "(3, 2)\n",
      "error\n",
      "[[146  90]\n",
      " [338 263]\n",
      " [310 192]\n",
      " [ 71  31]]\n"
     ]
    },
    {
     "data": {
      "image/png": "[encoded data removed]",
      "text/plain": [
       "<matplotlib.figure.Figure at 0x7f8ae46fdb90>"
      ]
     },
     "metadata": {},
     "output_type": "display_data"
    },
    {
     "name": "stdout",
     "output_type": "stream",
     "text": [
      "(3, 2)\n",
      "error\n",
      "[[308 186]\n",
      " [ 55 134]\n",
      " [343  83]\n",
      " [370 184]]\n"
     ]
    },
    {
     "data": {
      "image/png": "[encoded data removed]",
      "text/plain": [
       "<matplotlib.figure.Figure at 0x7f8ae46fdc10>"
      ]
     },
     "metadata": {},
     "output_type": "display_data"
    },
    {
     "name": "stdout",
     "output_type": "stream",
     "text": [
      "(4, 2)\n"
     ]
    },
    {
     "data": {
      "image/png": "[encoded data removed]",
      "text/plain": [
       "<matplotlib.figure.Figure at 0x7f8ae44bf5d0>"
      ]
     },
     "metadata": {},
     "output_type": "display_data"
    },
    {
     "name": "stdout",
     "output_type": "stream",
     "text": [
      "[[ 38 327]\n",
      " [114  99]\n",
      " [280 217]\n",
      " [110 133]]\n"
     ]
    },
    {
     "data": {
      "image/png": "[encoded data removed]",
      "text/plain": [
       "<matplotlib.figure.Figure at 0x7f8ae4765ad0>"
      ]
     },
     "metadata": {},
     "output_type": "display_data"
    },
    {
     "name": "stdout",
     "output_type": "stream",
     "text": [
      "(3, 2)\n",
      "error\n",
      "[[125 340]\n",
      " [ 87 268]\n",
      " [219 329]\n",
      " [263 150]]\n"
     ]
    },
    {
     "data": {
      "image/png": "[encoded data removed]",
      "text/plain": [
       "<matplotlib.figure.Figure at 0x7f8ae461cd10>"
      ]
     },
     "metadata": {},
     "output_type": "display_data"
    },
    {
     "name": "stdout",
     "output_type": "stream",
     "text": [
      "(4, 2)\n"
     ]
    },
    {
     "data": {
      "image/png": "[encoded data removed]",
      "text/plain": [
       "<matplotlib.figure.Figure at 0x7f8ae427bc10>"
      ]
     },
     "metadata": {},
     "output_type": "display_data"
    },
    {
     "name": "stdout",
     "output_type": "stream",
     "text": [
      "[[242 341]\n",
      " [191  22]\n",
      " [118 205]\n",
      " [ 41 182]]\n"
     ]
    },
    {
     "data": {
      "image/png": "[encoded data removed]",
      "text/plain": [
       "<matplotlib.figure.Figure at 0x7f8b1d7ed1d0>"
      ]
     },
     "metadata": {},
     "output_type": "display_data"
    },
    {
     "name": "stdout",
     "output_type": "stream",
     "text": [
      "(3, 2)\n",
      "error\n"
     ]
    }
   ],
   "source": [
    "for i in xrange(10):\n",
    "    try:\n",
    "    # Generate random quadilateral\n",
    "        quad = random_quadilateral()\n",
    "        print(quad)\n",
    "        img = np.zeros((400,400,3), np.uint8)\n",
    "        draw_quad(img, quad)\n",
    "        plt.imshow(img)\n",
    "        plt.show()\n",
    "\n",
    "        # Draw quadilateral without ordering\n",
    "        img_q = np.zeros((400,400,3), np.uint8)\n",
    "\n",
    "        quad_ordered = order_pts(quad)\n",
    "        draw_quad(img_q, quad_ordered.astype(np.int64))\n",
    "\n",
    "        plt.imshow(img_q)\n",
    "        plt.show()\n",
    "    except:\n",
    "        print('error')"
   ]
  },
  {
   "cell_type": "code",
   "execution_count": 37,
   "metadata": {},
   "outputs": [
    {
     "data": {
      "image/png": "[encoded data removed]",
      "text/plain": [
       "<matplotlib.figure.Figure at 0x7f8aea0b7a50>"
      ]
     },
     "metadata": {},
     "output_type": "display_data"
    }
   ],
   "source": [
    "verts = np.array([[0,0], [40,0], [40,40], [0,40]])\n",
    "img = np.zeros((240,240,3))\n",
    "draw_quad(img,verts)\n",
    "plt.imshow(img)\n",
    "plt.show()"
   ]
  },
  {
   "cell_type": "code",
   "execution_count": 10,
   "metadata": {},
   "outputs": [
    {
     "data": {
      "text/plain": [
       "(4, 2)"
      ]
     },
     "execution_count": 10,
     "metadata": {},
     "output_type": "execute_result"
    }
   ],
   "source": [
    "verts.shape"
   ]
  },
  {
   "cell_type": "code",
   "execution_count": 27,
   "metadata": {},
   "outputs": [
    {
     "name": "stdout",
     "output_type": "stream",
     "text": [
      "On branch pawan_files\r\n",
      "Your branch is up-to-date with 'origin/pawan_files'.\r\n",
      "Changes not staged for commit:\r\n",
      "  (use \"git add/rm <file>...\" to update what will be committed)\r\n",
      "  (use \"git checkout -- <file>...\" to discard changes in working directory)\r\n",
      "\r\n",
      "\t\u001b[31mmodified:   DDRMOS_network.ipynb\u001b[m\r\n",
      "\t\u001b[31mdeleted:    DatasetTensorCreator.ipynb\u001b[m\r\n",
      "\t\u001b[31mdeleted:    DenseBoxesFaceDetectionReplication.ipynb\u001b[m\r\n",
      "\t\u001b[31mmodified:   TrainingRotation-Pfunctions.ipynb\u001b[m\r\n",
      "\t\u001b[31mdeleted:    Untitled.ipynb\u001b[m\r\n",
      "\t\u001b[31mmodified:   dataset.py\u001b[m\r\n",
      "\t\u001b[31mmodified:   dataset.pyc\u001b[m\r\n",
      "\t\u001b[31mmodified:   functions_rotation.pyc\u001b[m\r\n",
      "\t\u001b[31mmodified:   network.pyc\u001b[m\r\n",
      "\r\n",
      "Untracked files:\r\n",
      "  (use \"git add <file>...\" to include in what will be committed)\r\n",
      "\r\n",
      "\t\u001b[31m.ipynb_checkpoints/\u001b[m\r\n",
      "\t\u001b[31mReplicatingISDR.ipynb\u001b[m\r\n",
      "\t\u001b[31mSloppyCodeConsistentEncodingPlotCirclesFreeformThoughtsWorkTillTwelveEvenIfTired.ipynb\u001b[m\r\n",
      "\r\n",
      "no changes added to commit (use \"git add\" and/or \"git commit -a\")\r\n"
     ]
    }
   ],
   "source": [
    "!git status"
   ]
  },
  {
   "cell_type": "code",
   "execution_count": 28,
   "metadata": {},
   "outputs": [
    {
     "name": "stdout",
     "output_type": "stream",
     "text": [
      "On branch pawan_files\r\n",
      "Your branch is up-to-date with 'origin/pawan_files'.\r\n",
      "Changes not staged for commit:\r\n",
      "  (use \"git add/rm <file>...\" to update what will be committed)\r\n",
      "  (use \"git checkout -- <file>...\" to discard changes in working directory)\r\n",
      "\r\n",
      "\t\u001b[31mmodified:   DDRMOS_network.ipynb\u001b[m\r\n",
      "\t\u001b[31mdeleted:    DatasetTensorCreator.ipynb\u001b[m\r\n",
      "\t\u001b[31mdeleted:    DenseBoxesFaceDetectionReplication.ipynb\u001b[m\r\n",
      "\t\u001b[31mmodified:   TrainingRotation-Pfunctions.ipynb\u001b[m\r\n",
      "\t\u001b[31mdeleted:    Untitled.ipynb\u001b[m\r\n",
      "\t\u001b[31mmodified:   dataset.py\u001b[m\r\n",
      "\t\u001b[31mmodified:   dataset.pyc\u001b[m\r\n",
      "\t\u001b[31mmodified:   functions_rotation.pyc\u001b[m\r\n",
      "\t\u001b[31mmodified:   network.pyc\u001b[m\r\n",
      "\r\n",
      "Untracked files:\r\n",
      "  (use \"git add <file>...\" to include in what will be committed)\r\n",
      "\r\n",
      "\t\u001b[31m.ipynb_checkpoints/\u001b[m\r\n",
      "\t\u001b[31mConsistentEncoding.ipynb\u001b[m\r\n",
      "\t\u001b[31mReplicatingISDR.ipynb\u001b[m\r\n",
      "\r\n",
      "no changes added to commit (use \"git add\" and/or \"git commit -a\")\r\n"
     ]
    }
   ],
   "source": [
    "!git status"
   ]
  },
  {
   "cell_type": "code",
   "execution_count": 29,
   "metadata": {
    "collapsed": true
   },
   "outputs": [],
   "source": [
    "!git add ConsistentEncoding.ipynb"
   ]
  },
  {
   "cell_type": "code",
   "execution_count": 30,
   "metadata": {},
   "outputs": [
    {
     "name": "stdout",
     "output_type": "stream",
     "text": [
      "[pawan_files 00e2f7e] add consistent encoding example instead of coin toss encoding\n",
      " 10 files changed, 2240 insertions(+), 3556 deletions(-)\n",
      " create mode 100644 ConsistentEncoding.ipynb\n",
      " delete mode 100644 DatasetTensorCreator.ipynb\n",
      " delete mode 100644 DenseBoxesFaceDetectionReplication.ipynb\n",
      " rewrite TrainingRotation-Pfunctions.ipynb (80%)\n",
      " delete mode 100644 Untitled.ipynb\n"
     ]
    }
   ],
   "source": [
    "!git commit -am \"add consistent encoding example instead of coin toss encoding\""
   ]
  },
  {
   "cell_type": "code",
   "execution_count": 33,
   "metadata": {},
   "outputs": [
    {
     "name": "stdout",
     "output_type": "stream",
     "text": [
      "env: http_proxy=http://proxy.ncbs.res.in:3128\n",
      "env: https_proxy=http://proxy.ncbs.res.in:3128\n"
     ]
    }
   ],
   "source": [
    "%env http_proxy http://proxy.ncbs.res.in:3128\n",
    "%env https_proxy http://proxy.ncbs.res.in:3128"
   ]
  },
  {
   "cell_type": "code",
   "execution_count": 34,
   "metadata": {},
   "outputs": [
    {
     "name": "stdout",
     "output_type": "stream",
     "text": [
      "warning: push.default is unset; its implicit value has changed in\n",
      "Git 2.0 from 'matching' to 'simple'. To squelch this message\n",
      "and maintain the traditional behavior, use:\n",
      "\n",
      "  git config --global push.default matching\n",
      "\n",
      "To squelch this message and adopt the new behavior now, use:\n",
      "\n",
      "  git config --global push.default simple\n",
      "\n",
      "When push.default is set to 'matching', git will push local branches\n",
      "to the remote branches that already exist with the same name.\n",
      "\n",
      "Since Git 2.0, Git defaults to the more conservative 'simple'\n",
      "behavior, which only pushes the current branch to the corresponding\n",
      "remote branch that 'git pull' uses to update the current branch.\n",
      "\n",
      "See 'git help config' and search for 'push.default' for further information.\n",
      "(the 'simple' mode was introduced in Git 1.7.11. Use the similar mode\n",
      "'current' instead of 'simple' if you sometimes use older versions of Git)\n",
      "\n",
      "Counting objects: 9, done.\n",
      "Delta compression using up to 20 threads.\n",
      "Compressing objects: 100% (9/9), done.\n",
      "Writing objects: 100% (9/9), 1.01 MiB | 0 bytes/s, done.\n",
      "Total 9 (delta 6), reused 0 (delta 0)\n",
      "remote: \n",
      "remote: To create a merge request for pawan_files, visit:\u001b[K\n",
      "remote:   https://gitlab.com/thutupallilab/neural_rotation_detector/merge_requests/new?merge_request%5Bsource_branch%5D=pawan_files\u001b[K\n",
      "remote: \n",
      "To https://gitlab.com/thutupallilab/neural_rotation_detector.git\n",
      "   24e5e77..00e2f7e  pawan_files -> pawan_files\n"
     ]
    }
   ],
   "source": [
    "!git push"
   ]
  },
  {
   "cell_type": "code",
   "execution_count": null,
   "metadata": {
    "collapsed": true
   },
   "outputs": [],
   "source": []
  }
 ],
 "metadata": {
  "kernelspec": {
   "display_name": "Python 2",
   "language": "python",
   "name": "python2"
  },
  "language_info": {
   "codemirror_mode": {
    "name": "ipython",
    "version": 2
   },
   "file_extension": ".py",
   "mimetype": "text/x-python",
   "name": "python",
   "nbconvert_exporter": "python",
   "pygments_lexer": "ipython2",
   "version": "2.7.12"
  }
 },
 "nbformat": 4,
 "nbformat_minor": 2
}
