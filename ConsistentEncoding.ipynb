{
 "cells": [
  {
   "cell_type": "code",
   "execution_count": 1,
   "metadata": {},
   "outputs": [
    {
     "data": {
      "application/javascript": [
       "IPython.OutputArea.prototype._should_scroll = function(lines) {\n",
       "    return false;\n",
       "}"
      ],
      "text/plain": [
       "<IPython.core.display.Javascript object>"
      ]
     },
     "metadata": {},
     "output_type": "display_data"
    }
   ],
   "source": [
    "%%javascript\n",
    "IPython.OutputArea.prototype._should_scroll = function(lines) {\n",
    "    return false;\n",
    "}"
   ]
  },
  {
   "cell_type": "code",
   "execution_count": 2,
   "metadata": {},
   "outputs": [
    {
     "data": {
      "image/png": "[encoded data removed]",
      "text/plain": [
       "<matplotlib.figure.Figure at 0x7f8aea39de50>"
      ]
     },
     "metadata": {},
     "output_type": "display_data"
    }
   ],
   "source": [
    "import cv2\n",
    "import numpy as np\n",
    "import matplotlib.pyplot as plt\n",
    "\n",
    "# Draw an arbitray quadilateral\n",
    "def draw_quadilateral(img, pts):\n",
    "    pts = pts.reshape((-1,1,2))\n",
    "    cv2.polylines(img,[pts],True,(0,255,255))\n",
    "    return img\n",
    "\n",
    "img = np.zeros((128,128,3), np.uint8)\n",
    "quad = np.array([[1,4], [2,1], [4,0], [5,3]])\n",
    "#quad = np.array([[10,5],[20,30],[70,20],[50,10]], np.int32)\n",
    "\n",
    "draw_quadilateral(img, quad)\n",
    "\n",
    "#plt.figure(figsize=(12,12))\n",
    "plt.imshow(img)\n",
    "plt.show()"
   ]
  },
  {
   "cell_type": "markdown",
   "metadata": {},
   "source": [
    "## Let's write some code for finding the two diagonals"
   ]
  },
  {
   "cell_type": "code",
   "execution_count": 25,
   "metadata": {
    "collapsed": true
   },
   "outputs": [],
   "source": [
    "from scipy.spatial import ConvexHull\n",
    "\n",
    "def draw_quad(img, quad):\n",
    "    cv2.line(img, tuple(quad[0]), tuple(quad[1]), color=(255,0,0))\n",
    "    cv2.line(img, tuple(quad[1]), tuple(quad[2]), color=(0,255,0))\n",
    "    cv2.line(img, tuple(quad[2]), tuple(quad[3]), color=(0,0,255))\n",
    "    cv2.line(img, tuple(quad[3]), tuple(quad[0]), color=(255,255,0))\n",
    "\n",
    "def slope(p1, p2):\n",
    "    \"\"\"\n",
    "    Calculates slope of two 2x1 points\n",
    "    \n",
    "    Args:\n",
    "        p1 (2,1): x1, y1\n",
    "        p2 (2,1): x2, y2\n",
    "        \n",
    "    Returns:\n",
    "        slope (scalar): Slope of the line between the two points\n",
    "    \"\"\"\n",
    "    if p2[0] == p1[0]:\n",
    "        return np.inf\n",
    "    else:\n",
    "        return float(p2[1]-p1[1])/float(p2[0]-p1[0])\n",
    "\n",
    "def order_pts(pts):\n",
    "    \"\"\"\n",
    "    Takes a list of pts and finds a structured labelling to it\n",
    "    \n",
    "    Args:\n",
    "        pts (4,2): 4x2 list of unordered pts\n",
    "        \n",
    "    Returns:\n",
    "        pts_u (4,2): 4x2 list of ordered pts\n",
    "    \"\"\"\n",
    "    pts_u = pts.copy()\n",
    "    hull = ConvexHull(pts)\n",
    "    pts_u = hull.points[hull.vertices]\n",
    "    print(pts_u.shape)\n",
    "    \n",
    "    # This gives us diametrically opposite points\n",
    "    diag1 = pts_u[0::2]\n",
    "    diag2 = pts_u[1::2]\n",
    "    \n",
    "    diags = [diag1, diag2]\n",
    "    \n",
    "    diag_idsx = np.argmax([slope(*list(diag1)), slope(*list(diag2))])\n",
    "    \n",
    "    x_idsx = diags[diag_idsx][:,0].argmin()\n",
    "    \n",
    "    min_x_1 = diags[diag_idsx][x_idsx]\n",
    "    \n",
    "    while not np.array_equal(pts_u[0], min_x_1):\n",
    "        pts_u = np.roll(pts_u, 1, axis=0)\n",
    "    \n",
    "    return pts_u\n",
    "\n",
    "def random_quadilateral():\n",
    "    verts = []\n",
    "    \n",
    "    for i in xrange(4):\n",
    "        verts.append([np.random.randint(0,400),np.random.randint(0,400)])\n",
    "        \n",
    "    #return np.array(verts)\n",
    "    return np.array([[0,0], [100,100], [100,0], [0,100]]) + 100"
   ]
  },
  {
   "cell_type": "code",
   "execution_count": null,
   "metadata": {
    "collapsed": true
   },
   "outputs": [],
   "source": []
  },
  {
   "cell_type": "code",
   "execution_count": 26,
   "metadata": {},
   "outputs": [
    {
     "name": "stdout",
     "output_type": "stream",
     "text": [
      "[[100 100]\n",
      " [200 200]\n",
      " [200 100]\n",
      " [100 200]]\n"
     ]
    },
    {
     "data": {
      "image/png": "[encoded data removed]",
      "text/plain": [
       "<matplotlib.figure.Figure at 0x7f8ae76c62d0>"
      ]
     },
     "metadata": {},
     "output_type": "display_data"
    },
    {
     "name": "stdout",
     "output_type": "stream",
     "text": [
      "(4, 2)\n"
     ]
    },
    {
     "data": {
      "image/png": "[encoded data removed]",
      "text/plain": [
       "<matplotlib.figure.Figure at 0x7f8ae76c6ed0>"
      ]
     },
     "metadata": {},
     "output_type": "display_data"
    },
    {
     "name": "stdout",
     "output_type": "stream",
     "text": [
      "[[100 100]\n",
      " [200 200]\n",
      " [200 100]\n",
      " [100 200]]\n"
     ]
    },
    {
     "data": {
      "image/png": "[encoded data removed]",
      "text/plain": [
       "<matplotlib.figure.Figure at 0x7f8b04126190>"
      ]
     },
     "metadata": {},
     "output_type": "display_data"
    },
    {
     "name": "stdout",
     "output_type": "stream",
     "text": [
      "(4, 2)\n"
     ]
    },
    {
     "data": {
      "image/png": "[encoded data removed]",
      "text/plain": [
       "<matplotlib.figure.Figure at 0x7f8ae769c0d0>"
      ]
     },
     "metadata": {},
     "output_type": "display_data"
    },
    {
     "name": "stdout",
     "output_type": "stream",
     "text": [
      "[[100 100]\n",
      " [200 200]\n",
      " [200 100]\n",
      " [100 200]]\n"
     ]
    },
    {
     "data": {
      "image/png": "[encoded data removed]",
      "text/plain": [
       "<matplotlib.figure.Figure at 0x7f8ae46a66d0>"
      ]
     },
     "metadata": {},
     "output_type": "display_data"
    },
    {
     "name": "stdout",
     "output_type": "stream",
     "text": [
      "(4, 2)\n"
     ]
    },
    {
     "data": {
      "image/png": "[encoded data removed]",
      "text/plain": [
       "<matplotlib.figure.Figure at 0x7f8ae769ce10>"
      ]
     },
     "metadata": {},
     "output_type": "display_data"
    },
    {
     "name": "stdout",
     "output_type": "stream",
     "text": [
      "[[100 100]\n",
      " [200 200]\n",
      " [200 100]\n",
      " [100 200]]\n"
     ]
    },
    {
     "data": {
      "image/png": "[encoded data removed]",
      "text/plain": [
       "<matplotlib.figure.Figure at 0x7f8ae4361f90>"
      ]
     },
     "metadata": {},
     "output_type": "display_data"
    },
    {
     "name": "stdout",
     "output_type": "stream",
     "text": [
      "(4, 2)\n"
     ]
    },
    {
     "data": {
      "image/png": "[encoded data removed]",
      "text/plain": [
       "<matplotlib.figure.Figure at 0x7f8ae4480b50>"
      ]
     },
     "metadata": {},
     "output_type": "display_data"
    },
    {
     "name": "stdout",
     "output_type": "stream",
     "text": [
      "[[100 100]\n",
      " [200 200]\n",
      " [200 100]\n",
      " [100 200]]\n"
     ]
    },
    {
     "data": {
      "image/png": "[encoded data removed]",
      "text/plain": [
       "<matplotlib.figure.Figure at 0x7f8ae4756610>"
      ]
     },
     "metadata": {},
     "output_type": "display_data"
    },
    {
     "name": "stdout",
     "output_type": "stream",
     "text": [
      "(4, 2)\n"
     ]
    },
    {
     "data": {
      "image/png": "[encoded data removed]",
      "text/plain": [
       "<matplotlib.figure.Figure at 0x7f8ae446c2d0>"
      ]
     },
     "metadata": {},
     "output_type": "display_data"
    },
    {
     "name": "stdout",
     "output_type": "stream",
     "text": [
      "[[100 100]\n",
      " [200 200]\n",
      " [200 100]\n",
      " [100 200]]\n"
     ]
    },
    {
     "data": {
      "image/png": "[encoded data removed]",
      "text/plain": [
       "<matplotlib.figure.Figure at 0x7f8ae4505dd0>"
      ]
     },
     "metadata": {},
     "output_type": "display_data"
    },
    {
     "name": "stdout",
     "output_type": "stream",
     "text": [
      "(4, 2)\n"
     ]
    },
    {
     "data": {
      "image/png": "[encoded data removed]",
      "text/plain": [
       "<matplotlib.figure.Figure at 0x7f8ae41fb350>"
      ]
     },
     "metadata": {},
     "output_type": "display_data"
    },
    {
     "name": "stdout",
     "output_type": "stream",
     "text": [
      "[[100 100]\n",
      " [200 200]\n",
      " [200 100]\n",
      " [100 200]]\n"
     ]
    },
    {
     "data": {
      "image/png": "[encoded data removed]",
      "text/plain": [
       "<matplotlib.figure.Figure at 0x7f8ae41c0f90>"
      ]
     },
     "metadata": {},
     "output_type": "display_data"
    },
    {
     "name": "stdout",
     "output_type": "stream",
     "text": [
      "(4, 2)\n"
     ]
    },
    {
     "data": {
      "image/png": "[encoded data removed]",
      "text/plain": [
       "<matplotlib.figure.Figure at 0x7f8ae7606090>"
      ]
     },
     "metadata": {},
     "output_type": "display_data"
    },
    {
     "name": "stdout",
     "output_type": "stream",
     "text": [
      "[[100 100]\n",
      " [200 200]\n",
      " [200 100]\n",
      " [100 200]]\n"
     ]
    },
    {
     "data": {
      "image/png": "[encoded data removed]",
      "text/plain": [
       "<matplotlib.figure.Figure at 0x7f8ae767c210>"
      ]
     },
     "metadata": {},
     "output_type": "display_data"
    },
    {
     "name": "stdout",
     "output_type": "stream",
     "text": [
      "(4, 2)\n"
     ]
    },
    {
     "data": {
      "image/png": "[encoded data removed]",
      "text/plain": [
       "<matplotlib.figure.Figure at 0x7f8ae45a6350>"
      ]
     },
     "metadata": {},
     "output_type": "display_data"
    },
    {
     "name": "stdout",
     "output_type": "stream",
     "text": [
      "[[100 100]\n",
      " [200 200]\n",
      " [200 100]\n",
      " [100 200]]\n"
     ]
    },
    {
     "data": {
      "image/png": "[encoded data removed]",
      "text/plain": [
       "<matplotlib.figure.Figure at 0x7f8ae76aff90>"
      ]
     },
     "metadata": {},
     "output_type": "display_data"
    },
    {
     "name": "stdout",
     "output_type": "stream",
     "text": [
      "(4, 2)\n"
     ]
    },
    {
     "data": {
      "image/png": "[encoded data removed]",
      "text/plain": [
       "<matplotlib.figure.Figure at 0x7f8ae45a6b50>"
      ]
     },
     "metadata": {},
     "output_type": "display_data"
    },
    {
     "name": "stdout",
     "output_type": "stream",
     "text": [
      "[[100 100]\n",
      " [200 200]\n",
      " [200 100]\n",
      " [100 200]]\n"
     ]
    },
    {
     "data": {
      "image/png": "[encoded data removed]",
      "text/plain": [
       "<matplotlib.figure.Figure at 0x7f8ae4533550>"
      ]
     },
     "metadata": {},
     "output_type": "display_data"
    },
    {
     "name": "stdout",
     "output_type": "stream",
     "text": [
      "(4, 2)\n"
     ]
    },
    {
     "data": {
      "image/png": "[encoded data removed]",
      "text/plain": [
       "<matplotlib.figure.Figure at 0x7f8ae4659ed0>"
      ]
     },
     "metadata": {},
     "output_type": "display_data"
    }
   ],
   "source": [
    "for i in xrange(10):\n",
    "    try:\n",
    "    # Generate random quadilateral\n",
    "        quad = random_quadilateral()\n",
    "        print(quad)\n",
    "        img = np.zeros((400,400,3), np.uint8)\n",
    "        draw_quad(img, quad)\n",
    "        plt.imshow(img)\n",
    "        plt.show()\n",
    "\n",
    "        # Draw quadilateral without ordering\n",
    "        img_q = np.zeros((400,400,3), np.uint8)\n",
    "\n",
    "        quad_ordered = order_pts(quad)\n",
    "        draw_quad(img_q, quad_ordered.astype(np.int64))\n",
    "\n",
    "        plt.imshow(img_q)\n",
    "        plt.show()\n",
    "    except:\n",
    "        print('error')"
   ]
  },
  {
   "cell_type": "code",
   "execution_count": 14,
   "metadata": {},
   "outputs": [
    {
     "data": {
      "image/png": "[encoded data removed]",
      "text/plain": [
       "<matplotlib.figure.Figure at 0x7f8ae75f78d0>"
      ]
     },
     "metadata": {},
     "output_type": "display_data"
    }
   ],
   "source": [
    "verts = np.array([[0,0], [40,0], [40,40], [0,40]])\n",
    "img = np.zeros((240,240,3))\n",
    "draw_quad(img,verts)\n",
    "plt.imshow(img)\n",
    "plt.show()"
   ]
  },
  {
   "cell_type": "code",
   "execution_count": 10,
   "metadata": {},
   "outputs": [
    {
     "data": {
      "text/plain": [
       "(4, 2)"
      ]
     },
     "execution_count": 10,
     "metadata": {},
     "output_type": "execute_result"
    }
   ],
   "source": [
    "verts.shape"
   ]
  },
  {
   "cell_type": "code",
   "execution_count": 27,
   "metadata": {},
   "outputs": [
    {
     "name": "stdout",
     "output_type": "stream",
     "text": [
      "On branch pawan_files\r\n",
      "Your branch is up-to-date with 'origin/pawan_files'.\r\n",
      "Changes not staged for commit:\r\n",
      "  (use \"git add/rm <file>...\" to update what will be committed)\r\n",
      "  (use \"git checkout -- <file>...\" to discard changes in working directory)\r\n",
      "\r\n",
      "\t\u001b[31mmodified:   DDRMOS_network.ipynb\u001b[m\r\n",
      "\t\u001b[31mdeleted:    DatasetTensorCreator.ipynb\u001b[m\r\n",
      "\t\u001b[31mdeleted:    DenseBoxesFaceDetectionReplication.ipynb\u001b[m\r\n",
      "\t\u001b[31mmodified:   TrainingRotation-Pfunctions.ipynb\u001b[m\r\n",
      "\t\u001b[31mdeleted:    Untitled.ipynb\u001b[m\r\n",
      "\t\u001b[31mmodified:   dataset.py\u001b[m\r\n",
      "\t\u001b[31mmodified:   dataset.pyc\u001b[m\r\n",
      "\t\u001b[31mmodified:   functions_rotation.pyc\u001b[m\r\n",
      "\t\u001b[31mmodified:   network.pyc\u001b[m\r\n",
      "\r\n",
      "Untracked files:\r\n",
      "  (use \"git add <file>...\" to include in what will be committed)\r\n",
      "\r\n",
      "\t\u001b[31m.ipynb_checkpoints/\u001b[m\r\n",
      "\t\u001b[31mReplicatingISDR.ipynb\u001b[m\r\n",
      "\t\u001b[31mSloppyCodeConsistentEncodingPlotCirclesFreeformThoughtsWorkTillTwelveEvenIfTired.ipynb\u001b[m\r\n",
      "\r\n",
      "no changes added to commit (use \"git add\" and/or \"git commit -a\")\r\n"
     ]
    }
   ],
   "source": [
    "!git status"
   ]
  },
  {
   "cell_type": "code",
   "execution_count": null,
   "metadata": {
    "collapsed": true
   },
   "outputs": [],
   "source": [
    "!git add S"
   ]
  }
 ],
 "metadata": {
  "kernelspec": {
   "display_name": "Python 2",
   "language": "python",
   "name": "python2"
  },
  "language_info": {
   "codemirror_mode": {
    "name": "ipython",
    "version": 2
   },
   "file_extension": ".py",
   "mimetype": "text/x-python",
   "name": "python",
   "nbconvert_exporter": "python",
   "pygments_lexer": "ipython2",
   "version": "2.7.12"
  }
 },
 "nbformat": 4,
 "nbformat_minor": 2
}
