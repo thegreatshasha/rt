{
 "cells": [
  {
   "cell_type": "markdown",
   "metadata": {
    "toc": "true"
   },
   "source": [
    "# Table of Contents\n",
    " <p><div class=\"lev2 toc-item\"><a href=\"#Plan\" data-toc-modified-id=\"Plan-01\"><span class=\"toc-item-num\">0.1&nbsp;&nbsp;</span>Plan</a></div><div class=\"lev2 toc-item\"><a href=\"#Classes\" data-toc-modified-id=\"Classes-02\"><span class=\"toc-item-num\">0.2&nbsp;&nbsp;</span>Classes</a></div><div class=\"lev2 toc-item\"><a href=\"#Tests\" data-toc-modified-id=\"Tests-03\"><span class=\"toc-item-num\">0.3&nbsp;&nbsp;</span>Tests</a></div>"
   ]
  },
  {
   "cell_type": "markdown",
   "metadata": {},
   "source": [
    "## Plan\n",
    "* Sit for 8 hours and finish it. Rest will happen automatically. \n",
    "* Function call flow:\n",
    "* x -> x_down -> y_loc, y_class -> pred_loc, pred_class -> loss_class, loss_reg -> loss\n",
    "* This completes the feedback loop."
   ]
  },
  {
   "cell_type": "markdown",
   "metadata": {},
   "source": [
    "## Classes\n",
    "The following classes/methods exist in the dataset\n",
    "* downsample\n",
    "* encode\n",
    "* Network\n",
    "* Loss"
   ]
  },
  {
   "cell_type": "code",
   "execution_count": 1,
   "metadata": {
    "ExecuteTime": {
     "end_time": "2017-12-08T10:39:35.824797Z",
     "start_time": "2017-12-08T10:39:34.885085Z"
    },
    "collapsed": true
   },
   "outputs": [],
   "source": [
    "import numpy as np\n",
    "from network import VGGNet\n",
    "\n",
    "\n",
    "def encode_y(x_down, labels_down):\n",
    "    \"\"\"\n",
    "    x_downsampled tensor -> y_tensor: Numpy\n",
    "    \n",
    "    Args:\n",
    "        x_down (b, 3, 60, 60): Downsampled list of images\n",
    "        labels_down (b, v, 2): List of lists of lists (downsampled boxes)\n",
    "        \n",
    "    Returns:\n",
    "        y_class (b, 1, 60, 60): Tensor containing mask for each image. Calculated within encode\n",
    "        y_loc (b, 4, 60, 60):\n",
    "    \"\"\"\n",
    "    \n",
    "    y_class = np.zeros((x_down.shape[0], x_down.shape[2], x_down.shape[3]))\n",
    "    y_loc = np.zeros((x_down.shape[0], 4, x_down.shape[2], x_down.shape[3]))\n",
    "    \n",
    "    y_class[x_down[:,0,:,:]>0] = 1 # Can also choose a smaller neighbourhood here\n",
    "    pos_inds = np.argwhere(y_class) # y_class is also the positive examples mask\n",
    "    \n",
    "    for b, y, x in pos_inds:\n",
    "        y_loc[b, :, y, x] = match_boxes(x, y, labels_down[b])\n",
    "        \n",
    "    y_class = y_class.reshape(x_down.shape[0], 1, x_down.shape[2], x_down.shape[3])\n",
    "    \n",
    "    return y_class, y_loc\n",
    "\n",
    "def match_boxes(x, y, boxes):\n",
    "    \"\"\" Numpy\n",
    "    Matches a point (x,y) to a bunch of boxes. Returns offset of the box with the nearest centre.\n",
    "    \n",
    "    Args:\n",
    "        x (scalar): X coordinate of point being matched\n",
    "        y (scalar): Y coordinate of point being matched\n",
    "        boxes: List of list of downsampled boxes being matched, in (tx, ty, bx, by) notation\n",
    "    \n",
    "    \"\"\"\n",
    "    \n",
    "    dist = 10**5 # Store the smallest disance to a large no initially, can glitch if dist greater than this\n",
    "    \n",
    "    for box in boxes:\n",
    "        cx = (box[0] + box[2])/2\n",
    "        cy = (box[1] + box[3])/2\n",
    "        \n",
    "        box_dist = (cx - x)**2 + (cy - y)**2\n",
    "        \n",
    "        if box_dist < dist:\n",
    "            offset = np.array([box[0] - x, box[1] - y, box[2] - x, box[3] - y])\n",
    "            dist = box_dist\n",
    "            \n",
    "    # Should not glitch because matching is only done for positive indices\n",
    "    return offset\n",
    "    \n",
    "\n",
    "def downsample(x):\n",
    "    \"\"\"\n",
    "    x -> x/4\n",
    "    \n",
    "    Args:\n",
    "        x (b, 3, 240, 240): Batch of 3 channel 240 x 240 images\n",
    "\n",
    "    Returns:\n",
    "        x_down (b, 3, 60, 60): Batch of 3 channel 60x60 images\n",
    "    \"\"\"\n",
    "    db = SquaresDataset()\n",
    "    imgs, labels = db.generate_batch(n=2, h=20, w=20, img_h=240, img_w=240)\n",
    "    \n",
    "    print('images shape', imgs.shape)\n",
    "\n",
    "    first_down = F.max_pooling_2d(imgs, 2, stride=2 )\n",
    "    second_down = F.max_pooling_2d(first_down, 2, stride=2 )\n",
    "    \n",
    "    return second_down   \n",
    "    \n",
    "    \n",
    "    pass\n",
    "\n",
    "def labels_downsample(images): \n",
    "    pos_list = []\n",
    "    imgs = images\n",
    "    first_down = F.max_pooling_2d(imgs, 2, stride=2 )\n",
    "    second_down = F.max_pooling_2d(first_down, 2, stride=2 )\n",
    "    \n",
    "    for i, image in enumerate(second_down): \n",
    "      \n",
    "        original_image =imgs[i,:,:,:]\n",
    "        original_image =np.transpose(original_image)\n",
    "\n",
    "        # get the ones in the image\n",
    "        posx,posy,_=np.divide((np.where(original_image ==1)),4).astype(int)                    \n",
    "        pos_list.append([posx,posy]) \n",
    "\n",
    "    return pos_list\n",
    "\n",
    "def loss(pred_class, pred_loc, gt_class, gt_loc, lambd=0.4):\n",
    "    \"\"\"\n",
    "    Calculates weighted sum of classification and regression loss. Calls the classification loss and regression loss functions separately.\n",
    "    \n",
    "    Args:\n",
    "        pred_class (b, 1, 60, 60): Network confidence probs for images\n",
    "        pred_loc (b, 4, 60, 60): Network offsets for each location\n",
    "        gt_class (b, 1, 60, 60): Gt class scores from encode\n",
    "        gt_loc (b, 4, 60, 60): Gt regression offsets from encode\n",
    "        lambd (scalar): WEighting factor comparison regression loss to \n",
    "        \n",
    "    Returns:\n",
    "        loss: Scalar value of \n",
    "    \"\"\"\n",
    "    return classification_loss(pred_class, gt_class) + lambd * regression_loss(pred_loc, gt_loc, gt_class)\n",
    "\n",
    "def classification_loss(pred_class, gt_class):\n",
    "    \"\"\"\n",
    "    Classification loss from mean squared diff between probabilities. Should probably use cross entropy instead but usng this now for simplicity.\n",
    "    \n",
    "    Also does hard negative mining. so requires generation of a selction mask of positives and most overconfident negatives.\n",
    "    \n",
    "    Args:\n",
    "        pred_class (b, 1, 60, 60): Network confidence probs\n",
    "        gt_class (b, 1, 60, 60): Binary gt confidence probs\n",
    "        \n",
    "    Returns:\n",
    "        class_loss: Scalar\n",
    "    \"\"\"\n",
    "    abs_loss = (pred_class - gt_class) ** 2\n",
    "    mask = selection_mask(abs_loss, gt_class)\n",
    "    selected_loss = abs_loss * mask\n",
    "    \n",
    "    return selected_loss.sum()/pred_class.shape[0]\n",
    "\n",
    "def regression_loss(pred_loc, gt_loc, gt_class):\n",
    "    \"\"\"\n",
    "    Regression loss from vanilla mean squared diff between shifts.\n",
    "    \n",
    "    Args:\n",
    "        pred_loc (b, 4, 60, 60): Network offsets for top left and bottom right of box. Should \n",
    "        gt_loc (b, 4, 60, 60): Ground truth offsets for top left and bottom right of box.  \n",
    "        gt_class (b, 1, 60, 60): Offsets for positive examples\n",
    "        \n",
    "    Returns:\n",
    "        reg_loss: Scalar\n",
    "    \"\"\"\n",
    "    abs_loss = ((pred_loc - gt_loc) ** 2).sum(axis=1) # Check dims in test\n",
    "    selected_loss = abs_loss * gt_class\n",
    "    \n",
    "    return selected_loss.sum()/pred_loc.shape[0]\n",
    "\n",
    "def selection_mask(abs_loss, gt_class):\n",
    "    \"\"\"\n",
    "    Returns a binary mask from absolute mean square classification loss and the ground truth mask\n",
    "    \n",
    "    Args:\n",
    "        abs_loss (b, 1, 60, 60): Absolute probability loss value over each pixel\n",
    "        gt_class (b, 1, 60, 60): Binary gt probs to set the positive pixels to one\n",
    "        \n",
    "    Returns;\n",
    "        select_mask (b, 1, 60, 60): Selection mask for poth positive and negative pixels0\n",
    "    \"\"\"\n",
    "    yinv = 1 - gt_class\n",
    "    \n",
    "    l_neg = yinv*abs_loss\n",
    "\n",
    "    select_mask = np.zeros(gt_class.shape)\n",
    "\n",
    "    for num,i in enumerate(l_neg):\n",
    "        indices = np.argsort(i.data,axis=None )\n",
    "\n",
    "        matrix_indices = np.unravel_index(indices,(3,3))\n",
    "        matrix_indices_flipped = np.fliplr(matrix_indices)\n",
    "\n",
    "        k_value= np.sum(gt_class[num,:,:])\n",
    "       \n",
    "        k_value = int(k_value)\n",
    "\n",
    "        matrix_indices_flipped = matrix_indices_flipped[:,0:k_value]\n",
    "\n",
    "        select_mask[num,0,matrix_indices_flipped[0],matrix_indices_flipped[1]]= 1\n",
    "        \n",
    "        select_mask[num,0,:,:] =select_mask[num,0,:,:] + y_star[num,0,:,:]\n",
    "        \n",
    "    return select_mask \n",
    "\n",
    "# class DenseBoxes(Chain):\n",
    "#     def __init__(self):\n",
    "#         super(DenseBoxes, self).__init__(\n",
    "#         # List of all the layers in denseboxes here.\n",
    "#     )"
   ]
  },
  {
   "cell_type": "markdown",
   "metadata": {},
   "source": [
    "## Tests\n",
    "Writing tests for all of these methods. Checking all of them should be sufficient for this code."
   ]
  },
  {
   "cell_type": "code",
   "execution_count": 2,
   "metadata": {
    "ExecuteTime": {
     "end_time": "2017-12-08T10:39:40.972936Z",
     "start_time": "2017-12-08T10:39:35.826476Z"
    }
   },
   "outputs": [
    {
     "data": {
      "image/png": "[encoded data removed]",
      "text/plain": [
       "<matplotlib.figure.Figure at 0x7f1a348708d0>"
      ]
     },
     "metadata": {},
     "output_type": "display_data"
    },
    {
     "name": "stderr",
     "output_type": "stream",
     "text": [
      "."
     ]
    },
    {
     "data": {
      "image/png": "[encoded data removed]",
      "text/plain": [
       "<matplotlib.figure.Figure at 0x7f1a34870c18>"
      ]
     },
     "metadata": {},
     "output_type": "display_data"
    },
    {
     "data": {
      "image/png": "[encoded data removed]",
      "text/plain": [
       "<matplotlib.figure.Figure at 0x7f19dfca1518>"
      ]
     },
     "metadata": {},
     "output_type": "display_data"
    },
    {
     "name": "stderr",
     "output_type": "stream",
     "text": [
      "."
     ]
    },
    {
     "name": "stdout",
     "output_type": "stream",
     "text": [
      "images shape (2, 3, 240, 240)\n",
      "(3, 60, 60)\n"
     ]
    },
    {
     "data": {
      "image/png": "[encoded data removed]",
      "text/plain": [
       "<matplotlib.figure.Figure at 0x7f19dfc6cb70>"
      ]
     },
     "metadata": {},
     "output_type": "display_data"
    },
    {
     "name": "stdout",
     "output_type": "stream",
     "text": [
      "(3, 60, 60)\n"
     ]
    },
    {
     "data": {
      "image/png": "[encoded data removed]",
      "text/plain": [
       "<matplotlib.figure.Figure at 0x7f19dfc71358>"
      ]
     },
     "metadata": {},
     "output_type": "display_data"
    },
    {
     "name": "stderr",
     "output_type": "stream",
     "text": [
      "..E"
     ]
    },
    {
     "name": "stdout",
     "output_type": "stream",
     "text": [
      " pred_loc shape : (2, 4, 60, 60)\n",
      " pred_class shape : (2, 1, 60, 60)\n",
      "images shape (2, 3, 240, 240)\n"
     ]
    },
    {
     "name": "stderr",
     "output_type": "stream",
     "text": [
      "\n",
      "======================================================================\n",
      "ERROR: test_reg_loss (__main__.TestCode)\n",
      "LOGIC: Calculate regression loss for the network with batch size of two. Trivial category.\n",
      "----------------------------------------------------------------------\n",
      "Traceback (most recent call last):\n",
      "  File \"<ipython-input-2-9d7d451557ce>\", line 99, in test_reg_loss\n",
      "    gt_class, gt_loc= encode_y(x_down,pos_list)\n",
      "  File \"<ipython-input-1-2e9af43588f2>\", line 21, in encode_y\n",
      "    y_class[x_down[:,0,:,:]>0] = 1 # Can also choose a smaller neighbourhood here\n",
      "  File \"/usr/local/lib/python3.5/dist-packages/chainer/variable.py\", line 1089, in __gt__\n",
      "    raise NotImplementedError()\n",
      "NotImplementedError\n",
      "\n",
      "----------------------------------------------------------------------\n",
      "Ran 5 tests in 4.717s\n",
      "\n",
      "FAILED (errors=1)\n"
     ]
    },
    {
     "data": {
      "text/plain": [
       "<unittest.runner.TextTestResult run=5 errors=1 failures=0>"
      ]
     },
     "execution_count": 2,
     "metadata": {},
     "output_type": "execute_result"
    }
   ],
   "source": [
    "import unittest\n",
    "from unittest import TestSuite\n",
    "from dataset import SquaresDataset\n",
    "import matplotlib.pyplot as plt\n",
    "import chainer.functions as F\n",
    "\n",
    "class TestCode(unittest.TestCase):\n",
    "    \n",
    "    def test_dataset(self):\n",
    "        \"\"\" TESTED: Test that datast works \"\"\"\n",
    "        #print('lola')\n",
    "        db = SquaresDataset()\n",
    "        imgs, labels = db.generate_batch(n=2, h=20, w=20, img_h=60, img_w=60)\n",
    "        db.visualize_batch(imgs, labels)\n",
    "    \n",
    "    def test_encode_y(self):\n",
    "        \"\"\" TESTED: Manually worked out example with batch size of two. Trivial category. \"\"\"\n",
    "        # Visualizing should also be fine\n",
    "        # Encoded boxes in a couple of boxes should look like the distance transform\n",
    "        \n",
    "        # Let's try with random values first\n",
    "        db = SquaresDataset()\n",
    "        imgs, labels = db.generate_batch(n=2, h=20, w=20, img_h=60, img_w=60)\n",
    "        gt_class, gt_loc = encode_y(imgs, labels)\n",
    "        \n",
    "#         print(gt_class.shape, gt_loc.shape)\n",
    "\n",
    "        plt.imshow(gt_loc[0,2,:,:])\n",
    "#         print(gt_loc[0,0,:,:].min())\n",
    "        plt.show()\n",
    "        # Then we will visualize and check\n",
    "        \n",
    "        # Then we will think of a clever way to test\n",
    "        \n",
    "#         print('lola')\n",
    "        \n",
    "    def test_downsample(self):\n",
    "        \"\"\" LOGIC: Test that shape matches. \"\"\"\n",
    "        # Visualizing should also be fine\n",
    "        \n",
    "        db = SquaresDataset()\n",
    "        imgs, labels = db.generate_batch(n=2, h=20, w=20, img_h=240, img_w=240)\n",
    "        print('images shape', imgs.shape)\n",
    "#         db.visualize_batch(imgs, labels)\n",
    "        \n",
    "        first_down = F.max_pooling_2d(imgs, 2, stride=2 )\n",
    "        second_down = F.max_pooling_2d(first_down, 2, stride=2 )\n",
    "       \n",
    "        pos_list = []\n",
    "        for i, image in enumerate(second_down): \n",
    "            \n",
    "            ax =plt.gca()          \n",
    "            original_image =imgs[i,:,:,:]\n",
    "            original_image =np.transpose(original_image)\n",
    "           \n",
    "            # get the ones in the image\n",
    "            posx,posy,_=np.divide((np.where(original_image ==1)),4).astype(int)\n",
    "                    \n",
    "            # plot max pooled image with \n",
    "            print(image.shape)\n",
    "            ax.scatter(posx, posy, s = 1)\n",
    "            ax.imshow(image[0].data)\n",
    "            \n",
    "            plt.title('down sampled image')\n",
    "            plt.show()\n",
    "            pos_list.append(zip(posx,posy)) \n",
    "       \n",
    "        pass\n",
    "    \n",
    "    def test_predict(self):\n",
    "        \"\"\" LOGIC: What does this method do? \"\"\"\n",
    "        # Visualizing should also be fine\n",
    "        \n",
    "        pass\n",
    "    \n",
    "    def test_network(self):\n",
    "        \"\"\" LOGIC: Test that the shape is correct? \"\"\"\n",
    "        db = SquaresDataset()\n",
    "        imgs, labels = db.generate_batch(n=2, h=20, w=20, img_h=240, img_w=240)\n",
    "        vgg = VGGNet()\n",
    "        pred_loc, pred_class= vgg(imgs)\n",
    "        print(' pred_loc shape :', pred_loc.shape)\n",
    "        print(' pred_class shape :', pred_class.shape)\n",
    "        \n",
    "        pass\n",
    "    \n",
    "    def test_loss(self):\n",
    "        \"\"\" LOGIC: Calculate sample loss for the network. Trivial category. \"\"\"\n",
    "        print(loss(pred_class, pred_loc, gt_class, gt_loc, lambd=0.4))\n",
    "        pass\n",
    "    \n",
    "    def test_reg_loss(self):\n",
    "        \"\"\" LOGIC: Calculate regression loss for the network with batch size of two. Trivial category. \"\"\"\n",
    "        # Should we show the regression loss hm here?\n",
    "        db = SquaresDataset()\n",
    "        imgs, labels = db.generate_batch(n=2, h=20, w=20, img_h=240, img_w=240)\n",
    "        x_down = downsample(imgs)\n",
    "        pos_list= labels_downsample(imgs)\n",
    "        gt_class, gt_loc= encode_y(x_down,pos_list)\n",
    "        \n",
    "        vgg = VGGNet()\n",
    "        pred_loc, pred_class= vgg(imgs)\n",
    "        abs_loss = ((pred_loc - gt_loc) ** 2).sum(axis=1)\n",
    "        \n",
    "        print(abs_loss)\n",
    "        pass\n",
    "    \n",
    "    def test_class_loss(self):\n",
    "        \"\"\" LOGIC: Calculate classification loss for the network with batch size of two. Trivial category. \"\"\"\n",
    "        # Should we show the classification loss heatmap here?\n",
    "        pass\n",
    "    \n",
    "    def test_convergence(self):\n",
    "        \"\"\" Check that for the one and two squares datasets, the network loss convergence. Plot the loss and show that it converges. \"\"\"\n",
    "        pass\n",
    "    \n",
    "    def test_select_mask(self):\n",
    "        \"\"\" For controlled inputs, check what the mask looks like. Does it look sensible? \"\"\"\n",
    "        pass\n",
    "    \n",
    "ts = TestSuite()\n",
    "#ts.ad\n",
    "ts.addTests([TestCode('test_encode_y'), TestCode('test_dataset'), TestCode('test_downsample'),TestCode('test_network'),TestCode('test_reg_loss')  ])\n",
    "unittest.TextTestRunner().run(ts)\n",
    "#alltests = unittest.TestSuite([fast, slow])"
   ]
  },
  {
   "cell_type": "code",
   "execution_count": null,
   "metadata": {
    "collapsed": true
   },
   "outputs": [],
   "source": [
    "\n"
   ]
  },
  {
   "cell_type": "code",
   "execution_count": null,
   "metadata": {
    "collapsed": true
   },
   "outputs": [],
   "source": []
  },
  {
   "cell_type": "code",
   "execution_count": null,
   "metadata": {
    "collapsed": true
   },
   "outputs": [],
   "source": []
  }
 ],
 "metadata": {
  "kernelspec": {
   "display_name": "Python 3",
   "language": "python",
   "name": "python3"
  },
  "language_info": {
   "codemirror_mode": {
    "name": "ipython",
    "version": 3
   },
   "file_extension": ".py",
   "mimetype": "text/x-python",
   "name": "python",
   "nbconvert_exporter": "python",
   "pygments_lexer": "ipython3",
   "version": "3.5.2"
  },
  "toc": {
   "colors": {
    "hover_highlight": "#DAA520",
    "navigate_num": "#000000",
    "navigate_text": "#333333",
    "running_highlight": "#FF0000",
    "selected_highlight": "#FFD700",
    "sidebar_border": "#EEEEEE",
    "wrapper_background": "#FFFFFF"
   },
   "moveMenuLeft": true,
   "nav_menu": {
    "height": "66px",
    "width": "252px"
   },
   "navigate_menu": true,
   "number_sections": true,
   "sideBar": true,
   "threshold": 4,
   "toc_cell": true,
   "toc_section_display": "block",
   "toc_window_display": true,
   "widenNotebook": false
  },
  "varInspector": {
   "cols": {
    "lenName": 16,
    "lenType": 16,
    "lenVar": 40
   },
   "kernels_config": {
    "python": {
     "delete_cmd_postfix": "",
     "delete_cmd_prefix": "del ",
     "library": "var_list.py",
     "varRefreshCmd": "print(var_dic_list())"
    },
    "r": {
     "delete_cmd_postfix": ") ",
     "delete_cmd_prefix": "rm(",
     "library": "var_list.r",
     "varRefreshCmd": "cat(var_dic_list()) "
    }
   },
   "types_to_exclude": [
    "module",
    "function",
    "builtin_function_or_method",
    "instance",
    "_Feature"
   ],
   "window_display": false
  }
 },
 "nbformat": 4,
 "nbformat_minor": 2
}
