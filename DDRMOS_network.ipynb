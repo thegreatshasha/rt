{
 "cells": [
  {
   "cell_type": "code",
   "execution_count": 1,
   "metadata": {
    "collapsed": true
   },
   "outputs": [],
   "source": [
    "import chainer\n",
    "from chainer import Variable\n",
    "import chainer.links as L\n",
    "import chainer.functions as F\n",
    "from chainer import cuda \n",
    "import cupy \n",
    "import numpy as np\n",
    "import matplotlib.pyplot as plt\n",
    "from matplotlib import patches, transforms \n",
    "import random \n",
    "\n",
    "\n",
    "class DDRNet(chainer.Chain):\n",
    "    \n",
    "    \"\"\"\n",
    "    DDRNet_net\n",
    "    - It takes (224, 224, 3) sized image as imput\n",
    "    - Network has 5 max pooling layers \n",
    "    - Network has three upsampling layers\n",
    "    - Regression classification have 128+512+256+128 =896 filters\n",
    "    \"\"\"\n",
    "\n",
    "    def __init__(self):\n",
    "        super(DDRNet, self).__init__( \n",
    "\n",
    "            #first section\n",
    "            conv1_1=L.Convolution2D(3, 32, 5, stride=1, pad=1),\n",
    "\n",
    "\n",
    "            #second section\n",
    "            conv2_1=L.Convolution2D(32, 64, 3, stride=1, pad=1),\n",
    "            conv2_2=L.Convolution2D(64, 64, 3, stride=1, pad=1),\n",
    "\n",
    "            #third section\n",
    "            conv3_1=L.Convolution2D(64, 128, 3, stride=1, pad=1),\n",
    "            conv3_2=L.Convolution2D(128, 128, 3, stride=1, pad=1),\n",
    "\n",
    "\n",
    "            #fourth section\n",
    "            conv4_1=L.Convolution2D(128, 256, 3, stride=1, pad=1),\n",
    "            conv4_2=L.Convolution2D(256, 256, 3, stride=1, pad=1),\n",
    "\n",
    "            #fifth section \n",
    "            conv5_1=L.Convolution2D(256, 512, 3, stride=1, pad=1),\n",
    "            conv5_2=L.Convolution2D(512, 512, 3, stride=1, pad=1),\n",
    "            \n",
    "            \n",
    "            #fifth section part 2 \n",
    "            conv5_3=L.Convolution2D(512, 512, 3, stride=1, pad=1),\n",
    "            conv5_4=L.Convolution2D(512, 512, 3, stride=1, pad=1),\n",
    "            conv5_5= L.Convolution2D(512, 128, 1, stride=1, pad=0),\n",
    "\n",
    "\n",
    "            #regression part\n",
    "            conv_reg_1= L.Convolution2D(1024, 128, 1, stride=1, pad=0),\n",
    "            conv_reg_2= L.Convolution2D(128, 8, 1, stride=1, pad=0),\n",
    "\n",
    "            #classification part \n",
    "            conv_class_1= L.Convolution2D(1024, 128, 1, stride=1, pad=0),\n",
    "    \n",
    "            \n",
    "        )\n",
    "        self.train = False\n",
    "        \n",
    "    def __call__(self, x):\n",
    "\n",
    "        #section 1  \n",
    "        h = F.relu(self.conv1_1(x))\n",
    "        h_pool1 = F.max_pooling_2d(h, 2, stride=2) #320/2 = 160 \n",
    "\n",
    "        #section 2\n",
    "        h = F.relu(self.conv2_1(h_pool1))\n",
    "        h = F.relu(self.conv2_2(h))\n",
    "        h_pool2 = F.max_pooling_2d(h, 2, stride=2) #160/2 = 80\n",
    "    \n",
    "        #section 3\n",
    "        h = F.relu(self.conv3_1(h_pool2))\n",
    "        h = F.relu(self.conv3_2(h))\n",
    "        h_pool3 = F.max_pooling_2d(h, 2, stride=2) #80/2 = 80\n",
    "\n",
    "        #section 4\n",
    "        h = F.relu(self.conv4_1(h_pool3))\n",
    "        h = F.relu(self.conv4_2(h))\n",
    "        h_pool4 = F.max_pooling_2d(h, 2, stride=2) #80/2 = 40\n",
    "        \n",
    "        #section 5\n",
    "        h = F.relu(self.conv5_1(h_pool4))\n",
    "        h = F.relu(self.conv5_2(h))\n",
    "        h_pool5 = F.max_pooling_2d(h, 2, stride=2) #40/2 =20 \n",
    " \n",
    "        # section 5 part 2 \n",
    "        h = F.relu(self.conv5_3(h_pool5))\n",
    "        h = F.relu(self.conv5_4(h))\n",
    "        \n",
    "        h_pool6 = F.max_pooling_2d(h, 2, stride=2)\n",
    "        h = F.relu(self.conv5_5(h_pool6))      #20/2 = 10\n",
    "        \n",
    "        #upsampling layers \n",
    "        h = F.resize_images(h, (h.shape[2]*2,h.shape[2]*2) )\n",
    "        h = F.concat((h, h_pool5), axis=1)\n",
    "        print(h.shape, h_pool5.shape)\n",
    "        \n",
    "        h = F.resize_images(h, (h.shape[2]*2,h.shape[2]*2) )\n",
    "        h = F.concat((h, h_pool4), axis=1)\n",
    "          \n",
    "        h = F.resize_images(h, (h.shape[2]*2,h.shape[2]*2) )\n",
    "        h = F.concat((h, h_pool3), axis=1)\n",
    "                \n",
    "        \n",
    "        h = F.resize_images(h, (h.shape[2]*2,h.shape[2]*2) )\n",
    "\n",
    "        #regression part \n",
    "        h_reg = F.relu(self.conv_reg_1(h))\n",
    "        h_reg = F.relu(self.conv_reg_2(h_reg))\n",
    "        h_reg=  F.sigmoid(h_reg)\n",
    "        h_reg = 2*h_reg-1\n",
    "        #regression part \n",
    "        h_class = F.relu(self.conv_class_1(h))\n",
    "        \n",
    "        return h_reg, h_class"
   ]
  },
  {
   "cell_type": "code",
   "execution_count": 2,
   "metadata": {},
   "outputs": [
    {
     "name": "stdout",
     "output_type": "stream",
     "text": [
      "((1, 640, 10, 10), (1, 512, 10, 10))\n"
     ]
    }
   ],
   "source": [
    "trial_image  = np.zeros((1,3, 320,320), dtype =np.float32)\n",
    "ddr = DDRNet()\n",
    "\n",
    "trial_image[:,:,100:200,100:200] =1 \n",
    "hreg, hclass = ddr(trial_image)"
   ]
  },
  {
   "cell_type": "code",
   "execution_count": 3,
   "metadata": {},
   "outputs": [
    {
     "data": {
      "image/png": "[encoded data removed]",
      "text/plain": [
       "<matplotlib.figure.Figure at 0x7f9d7f31a350>"
      ]
     },
     "metadata": {},
     "output_type": "display_data"
    }
   ],
   "source": [
    "plt.figure()\n",
    "plt.imshow(trial_image[0,0,:,:])\n",
    "plt.show()"
   ]
  },
  {
   "cell_type": "code",
   "execution_count": 4,
   "metadata": {},
   "outputs": [
    {
     "data": {
      "image/png": "[encoded data removed]",
      "text/plain": [
       "<matplotlib.figure.Figure at 0x7f9d7ef74910>"
      ]
     },
     "metadata": {},
     "output_type": "display_data"
    }
   ],
   "source": [
    "plt.figure()\n",
    "plt.imshow(hreg[0,0,:,:].data)\n",
    "plt.colorbar()\n",
    "plt.show()"
   ]
  },
  {
   "cell_type": "code",
   "execution_count": 5,
   "metadata": {},
   "outputs": [
    {
     "data": {
      "text/plain": [
       "(1, 8, 80, 80)"
      ]
     },
     "execution_count": 5,
     "metadata": {},
     "output_type": "execute_result"
    }
   ],
   "source": [
    "hreg.shape"
   ]
  },
  {
   "cell_type": "code",
   "execution_count": 6,
   "metadata": {},
   "outputs": [
    {
     "name": "stdout",
     "output_type": "stream",
     "text": [
      "env: http_proxy=http://proxy.ncbs.res.in:3128\n",
      "env: https_proxy=http://proxy.ncbs.res.in:3128\n"
     ]
    }
   ],
   "source": [
    "%env http_proxy http://proxy.ncbs.res.in:3128\n",
    "%env https_proxy http://proxy.ncbs.res.in:3128"
   ]
  },
  {
   "cell_type": "code",
   "execution_count": 7,
   "metadata": {
    "collapsed": true
   },
   "outputs": [],
   "source": [
    "!git add *\n"
   ]
  },
  {
   "cell_type": "code",
   "execution_count": 8,
   "metadata": {},
   "outputs": [
    {
     "name": "stdout",
     "output_type": "stream",
     "text": [
      "[pawan_files 24e5e77] Deep direction regression network\n",
      " 2 files changed, 1615 insertions(+), 1317 deletions(-)\n",
      " create mode 100644 DDRMOS_network.ipynb\n",
      " rewrite TrainingRotation-Pfunctions.ipynb (84%)\n"
     ]
    }
   ],
   "source": [
    "!git commit -m 'Deep direction regression network'"
   ]
  },
  {
   "cell_type": "code",
   "execution_count": 9,
   "metadata": {},
   "outputs": [
    {
     "name": "stdout",
     "output_type": "stream",
     "text": [
      "warning: push.default is unset; its implicit value has changed in\n",
      "Git 2.0 from 'matching' to 'simple'. To squelch this message\n",
      "and maintain the traditional behavior, use:\n",
      "\n",
      "  git config --global push.default matching\n",
      "\n",
      "To squelch this message and adopt the new behavior now, use:\n",
      "\n",
      "  git config --global push.default simple\n",
      "\n",
      "When push.default is set to 'matching', git will push local branches\n",
      "to the remote branches that already exist with the same name.\n",
      "\n",
      "Since Git 2.0, Git defaults to the more conservative 'simple'\n",
      "behavior, which only pushes the current branch to the corresponding\n",
      "remote branch that 'git pull' uses to update the current branch.\n",
      "\n",
      "See 'git help config' and search for 'push.default' for further information.\n",
      "(the 'simple' mode was introduced in Git 1.7.11. Use the similar mode\n",
      "'current' instead of 'simple' if you sometimes use older versions of Git)\n",
      "\n",
      "Counting objects: 4, done.\n",
      "Delta compression using up to 20 threads.\n",
      "Compressing objects: 100% (4/4), done.\n",
      "Writing objects: 100% (4/4), 724.64 KiB | 0 bytes/s, done.\n",
      "Total 4 (delta 1), reused 0 (delta 0)\n",
      "remote: \n",
      "remote: To create a merge request for pawan_files, visit:\u001b[K\n",
      "remote:   https://gitlab.com/thutupallilab/neural_rotation_detector/merge_requests/new?merge_request%5Bsource_branch%5D=pawan_files\u001b[K\n",
      "remote: \n",
      "To https://gitlab.com/thutupallilab/neural_rotation_detector.git\n",
      "   a60fd6b..24e5e77  pawan_files -> pawan_files\n"
     ]
    }
   ],
   "source": [
    "!git push "
   ]
  },
  {
   "cell_type": "code",
   "execution_count": null,
   "metadata": {
    "collapsed": true
   },
   "outputs": [],
   "source": []
  }
 ],
 "metadata": {
  "kernelspec": {
   "display_name": "Python 2",
   "language": "python",
   "name": "python2"
  },
  "language_info": {
   "codemirror_mode": {
    "name": "ipython",
    "version": 2
   },
   "file_extension": ".py",
   "mimetype": "text/x-python",
   "name": "python",
   "nbconvert_exporter": "python",
   "pygments_lexer": "ipython2",
   "version": "2.7.12"
  }
 },
 "nbformat": 4,
 "nbformat_minor": 2
}
