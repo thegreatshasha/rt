{
 "cells": [
  {
   "cell_type": "markdown",
   "metadata": {
    "toc": "true"
   },
   "source": [
    "# Table of Contents\n",
    " <p><div class=\"lev2 toc-item\"><a href=\"#Plan\" data-toc-modified-id=\"Plan-01\"><span class=\"toc-item-num\">0.1&nbsp;&nbsp;</span>Plan</a></div><div class=\"lev2 toc-item\"><a href=\"#Classes\" data-toc-modified-id=\"Classes-02\"><span class=\"toc-item-num\">0.2&nbsp;&nbsp;</span>Classes</a></div><div class=\"lev2 toc-item\"><a href=\"#Tests\" data-toc-modified-id=\"Tests-03\"><span class=\"toc-item-num\">0.3&nbsp;&nbsp;</span>Tests</a></div>"
   ]
  },
  {
   "cell_type": "markdown",
   "metadata": {},
   "source": [
    "## Plan\n",
    "* Sit for 3 hours and finish it. Rest will happen automatically. \n",
    "* Function call flow:\n",
    "* x -> x_down -> y_loc, y_class -> pred_loc, pred_class -> loss_class, loss_reg -> loss\n",
    "* This completes the feedback loop."
   ]
  },
  {
   "cell_type": "markdown",
   "metadata": {},
   "source": [
    "## Classes\n",
    "The following classes/methods exist in the dataset\n",
    "* downsample\n",
    "* encode\n",
    "* Network\n",
    "* Loss"
   ]
  },
  {
   "cell_type": "code",
   "execution_count": 1,
   "metadata": {
    "ExecuteTime": {
     "end_time": "2017-12-09T16:22:58.886977Z",
     "start_time": "2017-12-09T16:22:56.193031Z"
    },
    "collapsed": true
   },
   "outputs": [],
   "source": [
    "import numpy as np\n",
    "from network import VGGNet\n",
    "\n",
    "\n",
    "def encode_y(x_down, labels_down):\n",
    "    \"\"\"\n",
    "    x_downsampled tensor -> y_tensor: Numpy\n",
    "    \n",
    "    Args:\n",
    "        x_down (b, 3, 60, 60): Downsampled list of images\n",
    "        labels_down (b, v, 2): List of lists of lists (downsampled boxes)\n",
    "        \n",
    "    Returns:\n",
    "        y_class (b, 1, 60, 60): Tensor containing mask for each image. Calculated within encode\n",
    "        y_loc (b, 4, 60, 60):\n",
    "    \"\"\"\n",
    "    \n",
    "    y_class = np.zeros((x_down.shape[0], x_down.shape[2], x_down.shape[3]))\n",
    "    y_loc = np.zeros((x_down.shape[0], 4, x_down.shape[2], x_down.shape[3]))\n",
    "    \n",
    "    y_class[x_down[:,0,:,:]>0] = 1 # Can also choose a smaller neighbourhood here\n",
    "    pos_inds = np.argwhere(y_class) # y_class is also the positive examples mask\n",
    "    \n",
    "    for b, y, x in pos_inds:\n",
    "        y_loc[b, :, y, x] = match_boxes(x, y, labels_down[b])\n",
    "        \n",
    "    y_class = y_class.reshape(x_down.shape[0], 1, x_down.shape[2], x_down.shape[3])\n",
    "    \n",
    "    return y_class, y_loc\n",
    "\n",
    "def match_boxes(x, y, boxes):\n",
    "    \"\"\" Numpy\n",
    "    Matches a point (x,y) to a bunch of boxes. Returns offset of the box with the nearest centre.\n",
    "    \n",
    "    Args:\n",
    "        x (scalar): X coordinate of point being matched\n",
    "        y (scalar): Y coordinate of point being matched\n",
    "        boxes: List of list of downsampled boxes being matched, in (tx, ty, bx, by) notation\n",
    "    \n",
    "    \"\"\"\n",
    "    \n",
    "    dist = 10**5 # Store the smallest disance to a large no initially, can glitch if dist greater than this\n",
    "    \n",
    "    for box in boxes:\n",
    "        cx = (box[0] + box[2])/2\n",
    "        cy = (box[1] + box[3])/2\n",
    "        \n",
    "        box_dist = (cx - x)**2 + (cy - y)**2\n",
    "        \n",
    "        if box_dist < dist:\n",
    "            offset = np.array([box[0] - x, box[1] - y, box[2] - x, box[3] - y])\n",
    "            dist = box_dist\n",
    "            \n",
    "    # Should not glitch because matching is only done for positive indices\n",
    "    return offset\n",
    "    \n",
    "\n",
    "def downsample(x, labels):\n",
    "    \"\"\"\n",
    "    x -> x/4\n",
    "    \n",
    "    Args:\n",
    "        x (b, 3, 240, 240): Batch of 3 channel 240 x 240 images\n",
    "        labels (b, v, 4): List of list of boxes\n",
    "\n",
    "    Returns:\n",
    "        x_down (b, 3, 60, 60): Batch of 3 channel 60x60 images\n",
    "        labels_down (b, v, 4): List of list of downsampled boxes\n",
    "    \"\"\"\n",
    "    # Resize batch by two max pools\n",
    "    x_down = F.max_pooling_2d(F.max_pooling_2d(x, 2, stride=2 ), 2, stride=2 ) # Is this correct? Should we use bilinear interpolation instead?\n",
    "    labels_down = np.asarray(labels)/4.0\n",
    "    labels = np.divide(np.asarray(labels), 4.0)\n",
    "    return x_down.data, labels_down\n",
    "\n",
    "def loss(pred_class, pred_loc, gt_class, gt_loc, lambd=0.4):\n",
    "    \"\"\"\n",
    "    Calculates weighted sum of classification and regression loss. Calls the classification loss and regression loss functions separately.\n",
    "    \n",
    "    Args:\n",
    "        pred_class (b, 1, 60, 60): Network confidence probs for images\n",
    "        pred_loc (b, 4, 60, 60): Network offsets for each location\n",
    "        gt_class (b, 1, 60, 60): Gt class scores from encode\n",
    "        gt_loc (b, 4, 60, 60): Gt regression offsets from encode\n",
    "        lambd (scalar): WEighting factor comparison regression loss to \n",
    "        \n",
    "    Returns:\n",
    "        loss: Scalar value of \n",
    "    \"\"\"\n",
    "    return classification_loss(pred_class, gt_class) + lambd * regression_loss(pred_loc, gt_loc, gt_class)\n",
    "\n",
    "def classification_loss(pred_class, gt_class, debug=False):\n",
    "    \"\"\"\n",
    "    Classification loss from mean squared diff between probabilities. Should probably use cross entropy instead but usng this now for simplicity.\n",
    "    \n",
    "    Also does hard negative mining. so requires generation of a selction mask of positives and most overconfident negatives.\n",
    "    \n",
    "    Args:\n",
    "        pred_class (b, 1, 60, 60): Network confidence probs\n",
    "        gt_class (b, 1, 60, 60): Binary gt confidence probs\n",
    "        \n",
    "    Returns:\n",
    "        class_loss: Scalar\n",
    "    \"\"\"\n",
    "    abs_loss = (pred_class - gt_class) ** 2\n",
    "    mask = selection_mask(abs_loss.data, gt_class)\n",
    "    selected_loss = abs_loss * mask\n",
    "    \n",
    "    if debug:\n",
    "        return selected_loss/pred_class.shape[0]\n",
    "    else:\n",
    "        return F.sum(selected_loss)/pred_class.shape[0]\n",
    "\n",
    "def regression_loss(pred_loc, gt_loc, gt_class, debug=False):\n",
    "    \"\"\"\n",
    "    Regression loss from vanilla mean squared diff between shifts.\n",
    "    \n",
    "    Args:\n",
    "        pred_loc (b, 4, 60, 60): Network offsets for top left and bottom right of box. Should \n",
    "        gt_loc (b, 4, 60, 60): Ground truth offsets for top left and bottom right of box.  \n",
    "        gt_class (b, 1, 60, 60): Offsets for positive examples\n",
    "        \n",
    "    Returns:\n",
    "        reg_loss: Scalar\n",
    "    \"\"\"\n",
    "    abs_loss = F.sum(((pred_loc - gt_loc) ** 2),axis=1) # Check dims in test\n",
    "    abs_loss = F.reshape(abs_loss,(abs_loss.shape[0],1,abs_loss.shape[1], abs_loss.shape[2]))\n",
    "\n",
    "    selected_loss = abs_loss * gt_class\n",
    "    \n",
    "    if debug:\n",
    "        return selected_loss/pred_loc.shape[0]\n",
    "    else:\n",
    "        return F.sum(selected_loss)/pred_loc.shape[0]\n",
    "\n",
    "def selection_mask(abs_loss, gt_class):\n",
    "    \"\"\" Is there a simpler way of doing this?\n",
    "    Returns a binary mask from absolute mean square classification loss and the ground truth mask\n",
    "    \n",
    "    Args:\n",
    "        abs_loss (b, 1, 60, 60): Absolute probability loss value over each pixel\n",
    "        gt_class (b, 1, 60, 60): Binary gt probs to set the positive pixels to one\n",
    "        \n",
    "    Returns;\n",
    "        select_mask (b, 1, 60, 60): Selection mask for poth positive and negative pixels0\n",
    "    \"\"\"\n",
    "    yinv = 1 - gt_class\n",
    "    \n",
    "    loss_neg = yinv*abs_loss\n",
    "\n",
    "    select_mask = np.zeros(gt_class.shape)\n",
    "\n",
    "    for num,i in enumerate(loss_neg):\n",
    "        # Getting the sorted indices loss in a flat array\n",
    "        indices = np.argsort(i,axis=None )\n",
    "\n",
    "        # Reshaping the flat indices to matrix indices\n",
    "        matrix_indices = np.unravel_index(indices,(abs_loss.shape[2], abs_loss.shape[3]))\n",
    "        matrix_indices_flipped = np.fliplr(matrix_indices)\n",
    "\n",
    "        num_positives = int(np.sum(gt_class[num,:,:]))\n",
    "        \n",
    "        # Taking the top num_positives indices only\n",
    "        matrix_indices_sorted = matrix_indices_flipped[:,0:num_positives]\n",
    "\n",
    "        select_mask[num,0,matrix_indices_sorted[0],matrix_indices_sorted[1]] = 1 # Setting the top negative indices to one\n",
    "        select_mask[num,0,:,:] = select_mask[num,0,:,:] + gt_class[num,0,:,:] # Setting all positive indices to one\n",
    "        \n",
    "    return select_mask\n",
    "\n",
    "\n",
    "\n",
    "\n",
    "\n"
   ]
  },
  {
   "cell_type": "code",
   "execution_count": 2,
   "metadata": {
    "ExecuteTime": {
     "end_time": "2017-12-09T16:22:58.890590Z",
     "start_time": "2017-12-09T16:22:58.888670Z"
    },
    "collapsed": true
   },
   "outputs": [],
   "source": [
    "# first pass \n"
   ]
  },
  {
   "cell_type": "markdown",
   "metadata": {},
   "source": [
    "## Tests\n",
    "Writing tests for all of these methods. Checking all of them should be sufficient for this code."
   ]
  },
  {
   "cell_type": "code",
   "execution_count": 3,
   "metadata": {
    "ExecuteTime": {
     "end_time": "2017-12-09T16:23:03.732621Z",
     "start_time": "2017-12-09T16:22:58.892121Z"
    }
   },
   "outputs": [
    {
     "data": {
      "image/png": "[encoded data removed]",
      "text/plain": [
       "<matplotlib.figure.Figure at 0x7fa44b14a940>"
      ]
     },
     "metadata": {},
     "output_type": "display_data"
    },
    {
     "data": {
      "image/png": "[encoded data removed]",
      "text/plain": [
       "<matplotlib.figure.Figure at 0x7fa448bb1550>"
      ]
     },
     "metadata": {},
     "output_type": "display_data"
    },
    {
     "name": "stdout",
     "output_type": "stream",
     "text": [
      "----------------------------------------------\n"
     ]
    },
    {
     "data": {
      "image/png": "[encoded data removed]",
      "text/plain": [
       "<matplotlib.figure.Figure at 0x7fa3e6bc7048>"
      ]
     },
     "metadata": {},
     "output_type": "display_data"
    },
    {
     "data": {
      "image/png": "[encoded data removed]",
      "text/plain": [
       "<matplotlib.figure.Figure at 0x7fa3e6b73cf8>"
      ]
     },
     "metadata": {},
     "output_type": "display_data"
    },
    {
     "name": "stdout",
     "output_type": "stream",
     "text": [
      "----------------------------------------------\n"
     ]
    },
    {
     "data": {
      "image/png": "[encoded data removed]",
      "text/plain": [
       "<matplotlib.figure.Figure at 0x7fa3e6b47c18>"
      ]
     },
     "metadata": {},
     "output_type": "display_data"
    },
    {
     "name": "stderr",
     "output_type": "stream",
     "text": [
      "..\n",
      "----------------------------------------------------------------------\n",
      "Ran 2 tests in 3.381s\n",
      "\n",
      "OK\n"
     ]
    },
    {
     "data": {
      "text/plain": [
       "<unittest.runner.TextTestResult run=2 errors=0 failures=0>"
      ]
     },
     "execution_count": 3,
     "metadata": {},
     "output_type": "execute_result"
    }
   ],
   "source": [
    "import unittest\n",
    "from unittest import TestSuite\n",
    "from dataset import SquaresDataset\n",
    "import matplotlib.pyplot as plt\n",
    "import chainer.functions as F\n",
    "from scipy import ndimage\n",
    "from skimage.transform import rotate\n",
    "\n",
    "\n",
    "class TestCode(unittest.TestCase):\n",
    "    \n",
    "    def test_dataset(self):\n",
    "        \"\"\" TESTED: Test that datast works \"\"\"\n",
    "        # Basic plotting\n",
    "        fig = plt.figure()\n",
    "        fig.suptitle('Dataset generation example', fontsize=20)\n",
    "        \n",
    "        # Generate and visualize the dataset squares\n",
    "        db = SquaresDataset()\n",
    "        imgs, labels = db.generate_batch(n=2, h=20, w=20, img_h=60, img_w=60)\n",
    "        db.visualize_batch(imgs, labels)\n",
    "    \n",
    "    def test_encode_y(self):\n",
    "        \"\"\" TESTED: Manually worked out example with batch size of two. Trivial category. \"\"\"\n",
    "        # Encoded boxes in a couple of boxes should look like the distance transform\n",
    "        fig = plt.figure()\n",
    "        fig.suptitle('Encode y example', fontsize=20)\n",
    "        \n",
    "        # Let's try with random values first\n",
    "        db = SquaresDataset()\n",
    "        imgs, labels = db.generate_batch(n=2, h=20, w=20, img_h=60, img_w=60)\n",
    "        gt_class, gt_loc = encode_y(imgs, labels)\n",
    "\n",
    "        # Plot the encoded values\n",
    "        plt.imshow(gt_loc[0,2,:,:])\n",
    "        plt.show()\n",
    "        \n",
    "    def test_downsample(self):\n",
    "        \"\"\" LOGIC: Test that shape matches. \"\"\"\n",
    "        # Basic plotting\n",
    "        fig = plt.figure()\n",
    "        fig.suptitle('Downsampling visual test', fontsize=20)\n",
    "        \n",
    "        # Let's generate some boxes\n",
    "        db = SquaresDataset()\n",
    "        imgs, labels = db.generate_batch(n=2, h=80, w=80, img_h=240, img_w=240)\n",
    "        db.visualize_batch(imgs, labels)\n",
    "        \n",
    "        # Check that boxes redrawn after downsampling look identical to original ones\n",
    "        imgs_down, labels_down = downsample(imgs, labels)\n",
    "        db.visualize_batch(imgs_down, labels_down)\n",
    "    \n",
    "    def test_predict(self):\n",
    "        \"\"\" LOGIC: What does this method do? \"\"\"\n",
    "        # Visualizing should also be fine\n",
    "        \n",
    "        # Do not implement for now. Only get the regression loss to work.\n",
    "        pass\n",
    "    \n",
    "    def test_network(self):\n",
    "        \"\"\" LOGIC: Test that the shape is correct? \"\"\"\n",
    "        db = SquaresDataset()\n",
    "        imgs, labels = db.generate_batch(n=2, h=20, w=20, img_h=240, img_w=240)\n",
    "        \n",
    "        vgg = VGGNet()\n",
    "        \n",
    "        pred_loc, pred_class= vgg(imgs)\n",
    "        print(' pred_loc shape :', pred_loc.shape)\n",
    "        print(' pred_class shape :', pred_class.shape)\n",
    "        \n",
    "        # Need to add more tests here. Just checking for shape is not sufficient.\n",
    "    \n",
    "    def test_loss(self):\n",
    "        \"\"\" LOGIC: Calculate sample loss for the network. Trivial category. \"\"\"\n",
    "        print(loss(pred_class, pred_loc, gt_class, gt_loc, lambd=0.4))\n",
    "        \n",
    "        # Not really needed but let's still add a debug flag and check that this works\n",
    "        pass\n",
    "    \n",
    "    def test_reg_loss(self):\n",
    "        \"\"\" LOGIC: Calculate regression loss for the network with batch size of two. Trivial category. \"\"\"\n",
    "        # Shift by two pixels and check?\n",
    "        # Basic plotting\n",
    "        fig = plt.figure()\n",
    "        fig.suptitle('Regression loss example', fontsize=20)\n",
    "        \n",
    "        # Should we show the regression loss hm here?\n",
    "        db = SquaresDataset()\n",
    "        imgs, labels = db.generate_batch(n=2, h=20, w=20, img_h=240, img_w=240)\n",
    "        x_down, labels_down = downsample(imgs, labels)\n",
    "        \n",
    "        # Loss calculation\n",
    "        pred_class, pred_loc = vgg(imgs)\n",
    "        gt_class, gt_loc = encode_y(imgs, labels)\n",
    "        reg_loss = regression_loss(pred_loc, gt_loc, gt_class)\n",
    "        \n",
    "        # Plot and print the final regression loss\n",
    "    \n",
    "    def test_class_loss(self):\n",
    "        \"\"\" LOGIC: Calculate classification loss for the network with batch size of two. Trivial category. \"\"\"\n",
    "        # Should we show the classification loss heatmap here?\n",
    "        # Shift by two pixels and check?\n",
    "        fig = plt.figure()\n",
    "        fig.suptitle('Classification loss example', fontsize=20)\n",
    "        \n",
    "        # Generate data\n",
    "        db = SquaresDataset()\n",
    "        imgs, labels = db.generate_batch(n=2, h=20, w=20, img_h=240, img_w=240)\n",
    "        imgs_down, labels_down = downsample(imgs, labels)\n",
    "        \n",
    "        # Loss calculation\n",
    "        vgg = VGGNet()\n",
    "        pred_class, pred_loc = vgg(imgs)\n",
    "        gt_class, gt_loc = encode_y(imgs_down, labels_down)\n",
    "        \n",
    "        class_loss = classification_loss(pred_class, gt_class)\n",
    "        \n",
    "        # Plot and print the final loss\n",
    "        pass\n",
    "    \n",
    "    def test_classifier_learning_capacity(self):\n",
    "        \"\"\" Is the network able to do any auxillary learning task properly \"\"\"\n",
    "        pass\n",
    "    \n",
    "    def test_convergence(self):\n",
    "        \"\"\" Check that for the one and two squares datasets, the network loss convergence. Plot the loss and show that it converges. \"\"\"\n",
    "        \n",
    "        db = SquaresDataset()\n",
    "        imgs, labels = db.generate_batch(n=2, h=20, w=20, img_h=240, img_w=240)\n",
    "        x_down, labels_down = downsample(imgs, labels)\n",
    "        vgg = VGGNet()\n",
    "        pred_class, pred_loc = vgg(imgs)\n",
    "        gt_class, gt_loc = encode_y(imgs, labels)\n",
    "        reg_loss = regression_loss(pred_loc, gt_loc, gt_class)\n",
    "        total_loss = loss(pred_class, pred_loc, gt_class, gt_loc, lambd=0.4)        \n",
    "\n",
    "        pass\n",
    "    \n",
    "    def test_select_mask(self):\n",
    "        \"\"\" For controlled inputs, check what the mask looks like. Does it look sensible? \"\"\"\n",
    "    \n",
    "        db = SquaresDataset()\n",
    "        imgs, labels = db.generate_batch(n=2, h=20, w=20, img_h=240, img_w=240)\n",
    "        \n",
    "        imgs_down, labels_down = downsample(imgs, labels)\n",
    "\n",
    "        # Loss calculation\n",
    "        gt_class, gt_loc = encode_y(imgs_down, labels_down)\n",
    "        pred_class = gt_class.copy()\n",
    "\n",
    "        pred_class[0,0,:,:] = rotate( ndimage.distance_transform_edt(gt_class[0,0,:,:]), 90)\n",
    "        pred_class[1,0,:,:] = rotate(ndimage.distance_transform_edt(gt_class[1,0,:,:]), 90)\n",
    "\n",
    "        plt.figure()\n",
    "        plt.imshow(pred_class[0,0,:,:])\n",
    "        plt.title('pred class')\n",
    "        plt.show()\n",
    "\n",
    "        plt.figure()\n",
    "        plt.title('Gt class') \n",
    "        plt.imshow(gt_class[0,0,:,:]); plt.show()\n",
    "\n",
    "        print('----------------------------------------------')\n",
    "        #distance transform image\n",
    "        for   i,image_class in enumerate(gt_class):\n",
    "\n",
    "        # Absolute loss calculation\n",
    "            abs_loss = (pred_class - gt_class) ** 2\n",
    "            mask = selection_mask(abs_loss, gt_class)\n",
    "\n",
    "        # Display the selection mask\n",
    "        plt.figure()\n",
    "        plt.imshow(abs_loss[0,0,:,:])\n",
    "        plt.title('abs loss = (pred_class - gt_class) ** 2')\n",
    "        plt.show()\n",
    "\n",
    "\n",
    "        plt.figure()\n",
    "        plt.title('Mask')\n",
    "        plt.imshow(mask[0,0,:,:])\n",
    "        plt.show()\n",
    "\n",
    "\n",
    "        print('----------------------------------------------')\n",
    "\n",
    "        plt.figure()\n",
    "        plt.imshow(abs_loss[0,0,:,:]*mask[0,0,:,:])\n",
    "        plt.title('abs_loss * mask')\n",
    "        plt.show()\n",
    "\n",
    "    \n",
    "ts = TestSuite()\n",
    "#ts.ad\n",
    "ts.addTests([TestCode('test_select_mask'),TestCode('test_class_loss') ])\n",
    "#ts.addTests([TestCode('test_encode_y'),\n",
    "#             TestCode('test_downsample'),TestCode('test_network'),\n",
    "#             TestCode('test_reg_loss'),TestCode('test_select_mask')  ])\n",
    "\n",
    "unittest.TextTestRunner().run(ts)\n",
    "#alltests = unittest.TestSuite([fast, slow])"
   ]
  },
  {
   "cell_type": "code",
   "execution_count": null,
   "metadata": {
    "ExecuteTime": {
     "end_time": "2017-12-09T05:04:56.914400Z",
     "start_time": "2017-12-09T05:04:56.812561Z"
    },
    "collapsed": true
   },
   "outputs": [],
   "source": []
  },
  {
   "cell_type": "code",
   "execution_count": 1,
   "metadata": {
    "ExecuteTime": {
     "end_time": "2017-12-09T16:23:06.347174Z",
     "start_time": "2017-12-09T16:23:03.738699Z"
    }
   },
   "outputs": [
    {
     "ename": "NameError",
     "evalue": "name 'SquaresDataset' is not defined",
     "output_type": "error",
     "traceback": [
      "\u001b[0;31m\u001b[0m",
      "\u001b[0;31mNameError\u001b[0mTraceback (most recent call last)",
      "\u001b[0;32m<ipython-input-1-1fca1be8a635>\u001b[0m in \u001b[0;36m<module>\u001b[0;34m()\u001b[0m\n\u001b[0;32m----> 1\u001b[0;31m \u001b[0mdb\u001b[0m \u001b[0;34m=\u001b[0m \u001b[0mSquaresDataset\u001b[0m\u001b[0;34m(\u001b[0m\u001b[0;34m)\u001b[0m\u001b[0;34m\u001b[0m\u001b[0m\n\u001b[0m\u001b[1;32m      2\u001b[0m \u001b[0mimgs\u001b[0m\u001b[0;34m,\u001b[0m \u001b[0mlabels\u001b[0m \u001b[0;34m=\u001b[0m \u001b[0mdb\u001b[0m\u001b[0;34m.\u001b[0m\u001b[0mgenerate_batch\u001b[0m\u001b[0;34m(\u001b[0m\u001b[0mn\u001b[0m\u001b[0;34m=\u001b[0m\u001b[0;36m2\u001b[0m\u001b[0;34m,\u001b[0m \u001b[0mh\u001b[0m\u001b[0;34m=\u001b[0m\u001b[0;36m20\u001b[0m\u001b[0;34m,\u001b[0m \u001b[0mw\u001b[0m\u001b[0;34m=\u001b[0m\u001b[0;36m20\u001b[0m\u001b[0;34m,\u001b[0m \u001b[0mimg_h\u001b[0m\u001b[0;34m=\u001b[0m\u001b[0;36m240\u001b[0m\u001b[0;34m,\u001b[0m \u001b[0mimg_w\u001b[0m\u001b[0;34m=\u001b[0m\u001b[0;36m240\u001b[0m\u001b[0;34m)\u001b[0m\u001b[0;34m\u001b[0m\u001b[0m\n\u001b[1;32m      3\u001b[0m \u001b[0mimgs_down\u001b[0m\u001b[0;34m,\u001b[0m \u001b[0mlabels_down\u001b[0m \u001b[0;34m=\u001b[0m \u001b[0mdownsample\u001b[0m\u001b[0;34m(\u001b[0m\u001b[0mimgs\u001b[0m\u001b[0;34m,\u001b[0m \u001b[0mlabels\u001b[0m\u001b[0;34m)\u001b[0m\u001b[0;34m\u001b[0m\u001b[0m\n\u001b[1;32m      4\u001b[0m \u001b[0mvgg\u001b[0m \u001b[0;34m=\u001b[0m \u001b[0mVGGNet\u001b[0m\u001b[0;34m(\u001b[0m\u001b[0;34m)\u001b[0m\u001b[0;34m\u001b[0m\u001b[0m\n\u001b[1;32m      5\u001b[0m \u001b[0mpred_class\u001b[0m\u001b[0;34m,\u001b[0m \u001b[0mpred_loc\u001b[0m \u001b[0;34m=\u001b[0m \u001b[0mvgg\u001b[0m\u001b[0;34m(\u001b[0m\u001b[0mimgs\u001b[0m\u001b[0;34m)\u001b[0m\u001b[0;34m\u001b[0m\u001b[0m\n",
      "\u001b[0;31mNameError\u001b[0m: name 'SquaresDataset' is not defined"
     ]
    }
   ],
   "source": [
    "db = SquaresDataset()\n",
    "imgs, labels = db.generate_batch(n=2, h=20, w=20, img_h=240, img_w=240)\n",
    "imgs_down, labels_down = downsample(imgs, labels)\n",
    "vgg = VGGNet()\n",
    "pred_class, pred_loc = vgg(imgs)\n",
    "gt_class, gt_loc = encode_y(imgs_down, labels_down)\n",
    "\n",
    "\n",
    "reg_loss = regression_loss(pred_loc, gt_loc, gt_class)\n",
    "\n",
    "class_loss = classification_loss(pred_class, gt_class)\n",
    "        \n",
    "total_loss = loss(pred_class, pred_loc, gt_class, gt_loc, lambd=0.4) \n",
    "\n",
    "\n",
    "# pred_loc.shape, gt_loc.shape"
   ]
  },
  {
   "cell_type": "code",
   "execution_count": null,
   "metadata": {
    "collapsed": true
   },
   "outputs": [],
   "source": []
  }
 ],
 "metadata": {
  "kernelspec": {
   "display_name": "Python 2",
   "language": "python",
   "name": "python2"
  },
  "language_info": {
   "codemirror_mode": {
    "name": "ipython",
    "version": 2
   },
   "file_extension": ".py",
   "mimetype": "text/x-python",
   "name": "python",
   "nbconvert_exporter": "python",
   "pygments_lexer": "ipython2",
   "version": "2.7.12"
  },
  "toc": {
   "colors": {
    "hover_highlight": "#DAA520",
    "navigate_num": "#000000",
    "navigate_text": "#333333",
    "running_highlight": "#FF0000",
    "selected_highlight": "#FFD700",
    "sidebar_border": "#EEEEEE",
    "wrapper_background": "#FFFFFF"
   },
   "moveMenuLeft": true,
   "nav_menu": {
    "height": "66px",
    "width": "252px"
   },
   "navigate_menu": true,
   "number_sections": true,
   "sideBar": true,
   "threshold": 4,
   "toc_cell": true,
   "toc_section_display": "block",
   "toc_window_display": true,
   "widenNotebook": false
  },
  "varInspector": {
   "cols": {
    "lenName": 16,
    "lenType": 16,
    "lenVar": 40
   },
   "kernels_config": {
    "python": {
     "delete_cmd_postfix": "",
     "delete_cmd_prefix": "del ",
     "library": "var_list.py",
     "varRefreshCmd": "print(var_dic_list())"
    },
    "r": {
     "delete_cmd_postfix": ") ",
     "delete_cmd_prefix": "rm(",
     "library": "var_list.r",
     "varRefreshCmd": "cat(var_dic_list()) "
    }
   },
   "types_to_exclude": [
    "module",
    "function",
    "builtin_function_or_method",
    "instance",
    "_Feature"
   ],
   "window_display": false
  }
 },
 "nbformat": 4,
 "nbformat_minor": 2
}
