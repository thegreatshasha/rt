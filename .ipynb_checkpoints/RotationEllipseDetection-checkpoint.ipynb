{
 "cells": [
  {
   "cell_type": "code",
   "execution_count": 1,
   "metadata": {},
   "outputs": [
    {
     "data": {
      "application/javascript": [
       "IPython.OutputArea.prototype._should_scroll = function(lines) {\n",
       "    return false;\n",
       "}"
      ],
      "text/plain": [
       "<IPython.core.display.Javascript object>"
      ]
     },
     "metadata": {},
     "output_type": "display_data"
    }
   ],
   "source": [
    "%%javascript\n",
    "IPython.OutputArea.prototype._should_scroll = function(lines) {\n",
    "    return false;\n",
    "}"
   ]
  },
  {
   "cell_type": "code",
   "execution_count": 2,
   "metadata": {
    "collapsed": true
   },
   "outputs": [],
   "source": [
    "import chainer\n",
    "from dataset_4channel import RotatedSquaresDataset, BeetleDataset\n",
    "import matplotlib.pyplot as plt\n",
    "import numpy as np\n",
    "import functions_rotation as fr \n",
    "from tests import *\n",
    "from chainer import cuda \n",
    "import cupy\n",
    "from chainer.optimizers import MomentumSGD,Adam \n",
    "\n",
    "#db = RotatedSquaresDataset()"
   ]
  },
  {
   "cell_type": "markdown",
   "metadata": {},
   "source": [
    "Excellent, now let's initialize the network."
   ]
  },
  {
   "cell_type": "code",
   "execution_count": 3,
   "metadata": {
    "collapsed": true
   },
   "outputs": [],
   "source": [
    "from Network_4channel import VGGNet\n",
    "net = VGGNet()\n",
    "net.to_gpu(0)\n",
    "\n",
    "# Optimizer\n",
    "# optimizer =MomentumSGD(lr= 0.05)\n",
    "optimizer = Adam(alpha= 0.0001)\n",
    "optimizer.setup(net)"
   ]
  },
  {
   "cell_type": "code",
   "execution_count": 5,
   "metadata": {},
   "outputs": [
    {
     "name": "stdout",
     "output_type": "stream",
     "text": [
      "(5, 3, 240, 240)\n"
     ]
    }
   ],
   "source": [
    "raw_files = ['raw_densebox_1', 'raw_densebox_2', 'raw_densebox_3', 'raw_densebox_4', 'raw_densebox_5']\n",
    "label_files = ['class_lab_densebox_1', 'class_lab_densebox_2', 'class_lab_densebox_3', 'class_lab_densebox_4', 'class_lab_densebox_5']\n",
    "\n",
    "db = BeetleDataset(raw_files, label_files)\n",
    "#db = RotatedSquaresDataset()\n",
    "\n",
    "x_b,y_b,x_thresh_b=db.generate_batch(n=5)\n",
    "print(x_b.shape)\n",
    "#db.visualize_batch(x_b,y_b)\n",
    "# Why is the magnification non uniform? Huh Huh HUH?"
   ]
  },
  {
   "cell_type": "code",
   "execution_count": null,
   "metadata": {},
   "outputs": [],
   "source": [
    "x_b.dtype"
   ]
  },
  {
   "cell_type": "markdown",
   "metadata": {},
   "source": [
    "Let's begin the training process."
   ]
  },
  {
   "cell_type": "code",
   "execution_count": null,
   "metadata": {},
   "outputs": [
    {
     "name": "stderr",
     "output_type": "stream",
     "text": [
      "\r",
      "  0%|          | 0/500 [00:00<?, ?it/s]"
     ]
    },
    {
     "data": {
      "image/png": "[encoded data removed]",
      "text/plain": [
       "<matplotlib.figure.Figure at 0x7f5283a95a10>"
      ]
     },
     "metadata": {},
     "output_type": "display_data"
    },
    {
     "name": "stderr",
     "output_type": "stream",
     "text": [
      " 10%|█         | 50/500 [00:27<04:13,  1.77it/s]"
     ]
    },
    {
     "data": {
      "image/png": "[encoded data removed]",
      "text/plain": [
       "<matplotlib.figure.Figure at 0x7f5283a5f610>"
      ]
     },
     "metadata": {},
     "output_type": "display_data"
    },
    {
     "name": "stderr",
     "output_type": "stream",
     "text": [
      " 15%|█▌        | 77/500 [00:41<03:58,  1.77it/s]"
     ]
    }
   ],
   "source": [
    "from tqdm import tqdm\n",
    "losses = []\n",
    "\n",
    "plt.figure(figsize=(10,10))\n",
    "norm_factor = 25.0 # We'll normalize the offsets by the largest side and then multiply the shift vector by this factor\n",
    "\n",
    "# Training for loop\n",
    "for i in tqdm(range(500)):\n",
    "    imgs, labels, imgs_thresh = db.generate_batch(n=5)\n",
    "    imgs_down, labels_down, imgs_thresh_down = fr.downsample(imgs, labels, imgs_thresh)\n",
    "    \n",
    "    net.to_gpu(0)\n",
    "\n",
    "    imgs_gpu = chainer.Variable(cuda.to_gpu(imgs)) #gpu\n",
    "    \n",
    "    gt_class, gt_loc = fr.encode_y(imgs_down,norm_factor , labels_down, imgs_thresh_down) #cpu\n",
    "    \n",
    "    # Pass the ground truths to the gpu\n",
    "    gt_class.to_gpu(0)\n",
    "    gt_loc.to_gpu(0)\n",
    "\n",
    "    pred_class, pred_loc = net(imgs_gpu) #net(imgs) #gpu\n",
    "    \n",
    "    \n",
    "   # Loss calculation\n",
    "#     class_loss = classification_loss(pred_class, gt_class)\n",
    "\n",
    "#     class_loss = regression_loss(pred_loc, gt_loc, gt_class)\n",
    "    \n",
    "    \n",
    "    # Calculate the net loss \n",
    "    net_loss = loss(pred_class, pred_loc, gt_class, gt_loc, lambd=1.0)\n",
    "    #print(net_loss.debug_print())\n",
    "    #net_loss.to_gpu(0)\n",
    "    # Update network\n",
    "    net.zerograds()\n",
    "    net_loss.backward()\n",
    "    optimizer.update()\n",
    "    \n",
    "    # Print loss\n",
    "    losses.append(net_loss.data.get())\n",
    "    \n",
    "    #print(net_loss.data)\n",
    "    if i % 50 == 0:\n",
    "        gt_loc.to_cpu()\n",
    "        pred_loc.to_cpu()\n",
    "        plt.plot(range(len(losses)), losses)\n",
    "        plt.show()\n",
    "#         plt.figure()\n",
    "#         plt.imshow(gt_loc[0,0,:,:].data,)\n",
    "#         plt.colorbar()\n",
    "#         plt.show()\n",
    "\n",
    "\n",
    "#         plt.figure()\n",
    "#         plt.imshow(pred_loc[0,0,:,:].data,)\n",
    "#         plt.colorbar()\n",
    "#         plt.show()\n",
    "    \n",
    "    \n",
    "# Final loss plot\n"
   ]
  },
  {
   "cell_type": "code",
   "execution_count": null,
   "metadata": {
    "collapsed": true
   },
   "outputs": [],
   "source": [
    "b = 1\n",
    "norm_factor = 20\n",
    "# Format is x1, y1, x2, y2"
   ]
  },
  {
   "cell_type": "code",
   "execution_count": null,
   "metadata": {
    "collapsed": true
   },
   "outputs": [],
   "source": [
    "from skimage.draw import line\n",
    "import matplotlib.pyplot as plt"
   ]
  },
  {
   "cell_type": "code",
   "execution_count": null,
   "metadata": {
    "collapsed": true
   },
   "outputs": [],
   "source": [
    "pred_class.to_cpu()\n",
    "pred_loc.to_cpu()\n",
    "gt_class.to_cpu()\n",
    "gt_loc.to_cpu()"
   ]
  },
  {
   "cell_type": "code",
   "execution_count": null,
   "metadata": {
    "collapsed": true
   },
   "outputs": [],
   "source": [
    "def loc_to_vectors(pred_loc, pred_class, sparsity=1.0):\n",
    "    \"\"\"\n",
    "    Converts a loc shift tensor into list of vectors to plot. Useful for visualizing density.\n",
    "    \n",
    "    Args:\n",
    "        pred_loc (b,4,H,W): Loc shift tensor from base location (x,y)\n",
    "        pred_class (b,1,H,W): Loc class probabilities of being a valid candidate hypothesis\n",
    "        sparsity (scalar): Probability of selecting a particular vector\n",
    "        \n",
    "    Returns:\n",
    "        vectors_batch (list(list(vector))): List of list of vectors to be drawn /img/batch\n",
    "    \"\"\"\n",
    "    vectors_batch = [] # Vectors in all the images in the batch\n",
    "    \n",
    "    for b in range(pred_loc.shape[0]):\n",
    "        vectors_img  = [] # Vectors in a single image\n",
    "        \n",
    "        for y in range(pred_loc.shape[2]):\n",
    "            for x in range(pred_loc.shape[3]):\n",
    "                shift_vec_left = pred_loc[b,0:2,y,x] # Assuming that the format is x1,y1\n",
    "                shift_vec_right = pred_loc[b,2:4,y,x]\n",
    "                base_vec = np.array([x,y])\n",
    "                \n",
    "                if np.abs(shift_vec_left).sum() and pred_class[b,0,y,x]>0.9: # Assuming the shift is non zero, this can be changed to a different condition\n",
    "                    vectors_img.append([base_vec, base_vec + norm_factor*shift_vec_left, base_vec + norm_factor*shift_vec_right])\n",
    "                \n",
    "        vectors_batch.append(vectors_img)\n",
    "        \n",
    "    return vectors_batch"
   ]
  },
  {
   "cell_type": "code",
   "execution_count": null,
   "metadata": {
    "collapsed": true
   },
   "outputs": [],
   "source": [
    "vectors_batch = loc_to_vectors(pred_loc.data, pred_class.data)"
   ]
  },
  {
   "cell_type": "code",
   "execution_count": null,
   "metadata": {},
   "outputs": [],
   "source": [
    "import matplotlib.pyplot as plt\n",
    "import random\n",
    "\n",
    "for vec, img, g in zip(vectors_batch, imgs_down, gt_class):\n",
    "    # print(img.shape)\n",
    "    \n",
    "    plt.figure(figsize=(10,10))\n",
    "    print('image')\n",
    "    plt.imshow(img[0,:,:])\n",
    "    \n",
    "    # Add sorting code\n",
    "\n",
    "    vec_subset =  vec#random.sample(vec, 80)\n",
    "    \n",
    "    for v in vec_subset: # Can also randomly sample vectors here\n",
    "        a, v1, v2 = v\n",
    "        \n",
    "        #plt.plot(*v[0], *v[1], c=np.random.rand(3,))\n",
    "        plt.plot([v1[0],v2[0] ],[v1[1],v2[1]],c=np.random.rand(3,))\n",
    "    \n",
    "    plt.show()"
   ]
  },
  {
   "cell_type": "code",
   "execution_count": null,
   "metadata": {
    "collapsed": true
   },
   "outputs": [],
   "source": []
  },
  {
   "cell_type": "code",
   "execution_count": null,
   "metadata": {},
   "outputs": [],
   "source": [
    "\n",
    "for i in range(5):\n",
    "    plt.imshow(gt_class[0,0,:,:].data)\n",
    "    plt.show()"
   ]
  },
  {
   "cell_type": "code",
   "execution_count": null,
   "metadata": {},
   "outputs": [],
   "source": [
    "!git commit -am \"ok we have started running the beetle density estimation process\""
   ]
  },
  {
   "cell_type": "code",
   "execution_count": null,
   "metadata": {},
   "outputs": [],
   "source": [
    "!git commit -am \"bug in gt class. fix immediately, check encoding and then verify if encoding works. meditation is awesome. instant bug fix\""
   ]
  },
  {
   "cell_type": "code",
   "execution_count": null,
   "metadata": {
    "collapsed": true
   },
   "outputs": [],
   "source": [
    " "
   ]
  },
  {
   "cell_type": "code",
   "execution_count": null,
   "metadata": {
    "collapsed": true
   },
   "outputs": [],
   "source": []
  },
  {
   "cell_type": "code",
   "execution_count": null,
   "metadata": {
    "collapsed": true
   },
   "outputs": [],
   "source": []
  },
  {
   "cell_type": "code",
   "execution_count": null,
   "metadata": {
    "collapsed": true
   },
   "outputs": [],
   "source": []
  },
  {
   "cell_type": "code",
   "execution_count": null,
   "metadata": {
    "collapsed": true
   },
   "outputs": [],
   "source": [
    "gt_c"
   ]
  },
  {
   "cell_type": "code",
   "execution_count": null,
   "metadata": {
    "collapsed": true
   },
   "outputs": [],
   "source": [
    "g_class, g_loc = fr.encode_y(x_b, norm_factor, y_b)"
   ]
  },
  {
   "cell_type": "code",
   "execution_count": null,
   "metadata": {},
   "outputs": [],
   "source": [
    "plt.imshow(gt_class[0,0])"
   ]
  },
  {
   "cell_type": "code",
   "execution_count": null,
   "metadata": {
    "collapsed": true
   },
   "outputs": [],
   "source": []
  }
 ],
 "metadata": {
  "kernelspec": {
   "display_name": "Python 2",
   "language": "python",
   "name": "python2"
  },
  "language_info": {
   "codemirror_mode": {
    "name": "ipython",
    "version": 2
   },
   "file_extension": ".py",
   "mimetype": "text/x-python",
   "name": "python",
   "nbconvert_exporter": "python",
   "pygments_lexer": "ipython2",
   "version": "2.7.12"
  }
 },
 "nbformat": 4,
 "nbformat_minor": 2
}
