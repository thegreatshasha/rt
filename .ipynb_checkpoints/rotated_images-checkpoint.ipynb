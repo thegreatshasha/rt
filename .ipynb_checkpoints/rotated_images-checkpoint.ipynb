{
 "cells": [
  {
   "cell_type": "code",
   "execution_count": 45,
   "metadata": {
    "collapsed": true
   },
   "outputs": [],
   "source": [
    "\n",
    "# checking how to generate rotated rectangles \n",
    "from PIL import Image\n",
    "from PIL import ImageDraw\n",
    "import math\n",
    "import chainer\n",
    "import numpy as np\n",
    "import matplotlib.pyplot as plt\n",
    "from matplotlib import patches, transforms \n",
    "import random \n",
    "from chainer.functions import log, hstack, huber_loss\n",
    "from chainer import cuda \n",
    "import cupy \n",
    "import functions as fn \n",
    "\n",
    "class RotatedSquaresDataset: \n",
    "    \n",
    "    def __init__(self):\n",
    "        pass\n",
    "    \n",
    "    def rotate_point(self, origin, point, angle):\n",
    "        \"\"\"\n",
    "        Rotate a point counterclockwise by a given angle around a given origin.\n",
    "\n",
    "        The angle should be given in radians.\n",
    "        \"\"\"\n",
    "        ox, oy = origin\n",
    "        px, py = point\n",
    "\n",
    "        qx = ox + math.cos(angle) * (px - ox) - math.sin(angle) * (py - oy)\n",
    "        qy = oy + math.sin(angle) * (px - ox) + math.cos(angle) * (py - oy)\n",
    "\n",
    "        return qx, qy\n",
    "\n",
    "\n",
    "\n",
    "    def  get_rotated_pts(self,center, dims, angle ):\n",
    "        centerx, centery= center\n",
    "        width, height = dims                 \n",
    "        points =np.array([[centerx-(width/2),centery-(height/2)],\n",
    "                    [centerx-(width/2),centery+(height/2)], \n",
    "                    [centerx+(width/2),centery+(height/2)], \n",
    "                     [centerx+(width/2),centery-(height/2)]])\n",
    "        center = [centerx, centery]\n",
    "        all_rotated_points = [ self.rotate_point(center,points[x,:], angle) for x in range(0,4)]\n",
    "        all_rot_pts_array= np.array(all_rotated_points)\n",
    "        return all_rotated_points, all_rot_pts_array\n",
    "\n",
    "\n",
    "    def draw_rot_object(self,img_size, all_rotated_points): \n",
    "\n",
    "        img = Image.new('RGB', (img_size, img_size), (0, 0, 0))\n",
    "        ImageDraw.Draw(img, 'RGBA').polygon(all_rotated_points, (1, 0, 0))\n",
    "        img_array = np.array(img, dtype=np.float32)\n",
    "        return img_array \n",
    "\n",
    "\n",
    "    def get_gt_loc(self, rot_array):\n",
    "\n",
    "        all_rot_pts_array = rot_array \n",
    "\n",
    "        left_ind =all_rot_pts_array[:,0].argmin()\n",
    "        left_pt = all_rot_pts_array[left_ind,:]\n",
    "\n",
    "        right_ind =all_rot_pts_array[:,0].argmax()\n",
    "        right_pt = all_rot_pts_array[right_ind,:]\n",
    "\n",
    "        return np.concatenate((left_pt,right_pt))\n",
    "\n",
    "    def gt_image(self,numpy_image): \n",
    "\n",
    "        for i in range(3): \n",
    "            single_channel = numpy_image[:,:,i]\n",
    "\n",
    "            if i==0:     \n",
    "                tr_image = np.reshape(single_channel,[1,1,single_channel.shape[0], single_channel.shape[1]], order='C')\n",
    "            else: \n",
    "                tr_image =np.hstack((tr_image,  np.reshape(single_channel,[1,1,single_channel.shape[0], single_channel.shape[1]], order='C')))\n",
    "\n",
    "        return tr_image\n",
    "\n",
    "\n",
    "    def show_ends(self,plot_image, rot_array, img_numpy):\n",
    "        rot_pt_array= rot_array\n",
    "        if plot_image==True: \n",
    "            plt.figure()\n",
    "            plt.imshow(img_numpy[:,:,0])\n",
    "            plt.scatter(rot_pt_array[rot_pt_array[:,0].argmin(),0], rot_pt_array[rot_pt_array[:,0].argmin(),1],c=['red'])\n",
    "            plt.scatter(rot_pt_array[rot_pt_array[:,0].argmax(),0], rot_pt_array[rot_pt_array[:,0].argmax(),1],c=['green'])\n",
    "            plt.show()\n",
    "\n",
    "    def generate_rot_image(self,center, dimensions, angle, plot_image=False): \n",
    "        \"\"\"\n",
    "         Input- \n",
    "\n",
    "         img_size : (2,2) array -size of the input image to draw on \n",
    "\n",
    "         Output- \n",
    "         box      : 1*7 numpy array [centerx, centery, width, height, angle,1,0]\n",
    "\n",
    "        \"\"\"\n",
    "\n",
    "        img_size= 240\n",
    "\n",
    "        all_rotated_points,rot_pt_array = self.get_rotated_pts(center,dimensions, angle )\n",
    "        img_numpy  =  self.draw_rot_object(img_size, all_rotated_points)\n",
    "        gt_loc     =  self.get_gt_loc(rot_pt_array) \n",
    "        rot_gt_box =  np.concatenate((gt_loc,np.array(angle).reshape(1) ))\n",
    "\n",
    "        self.show_ends(plot_image,rot_pt_array, img_numpy)\n",
    "        gt_img = self.gt_image(img_numpy)\n",
    "\n",
    "        return rot_gt_box, gt_img\n",
    "\n",
    "    def generate_batch( num=10, h=50, w= 30, img_size= 240):\n",
    "\n",
    "        number_images= num\n",
    "        number_boxes= 3\n",
    "        image_size =240\n",
    "        rot_gt_box =np.zeros((number_images,number_boxes,5))\n",
    "        rot_gt_imgs =np.zeros((number_images,3,image_size,image_size))\n",
    "        center_range =[20,220]\n",
    "\n",
    "        for simg in range(number_images): \n",
    "\n",
    "            dimensions =[20,30]\n",
    "\n",
    "            final_image = np.zeros([1,3,image_size, image_size])\n",
    "\n",
    "            for sbox in range(number_boxes):\n",
    "                angle = (np.random.rand())*6.28\n",
    "                center= [np.random.randint(center_range[0],center_range[1] ),np.random.randint(center_range[0],center_range[1])] \n",
    "                s_rot_gt_loc,s_rot_img= self.generate_rot_image(center,dimensions,angle,plot_image=False )\n",
    "                rot_gt_box[simg,sbox,:]= s_rot_gt_loc\n",
    "                final_image += s_rot_img\n",
    "\n",
    "\n",
    "            final_image[final_image>0] =1   \n",
    "            plt.figure()\n",
    "            plt.imshow(final_image[0,0,:,:])\n",
    "            plt.show()\n",
    "            rot_gt_imgs[simg,:,:,:]= final_image\n",
    "\n",
    "        return rot_gt_box, rot_gt_imgs\n"
   ]
  },
  {
   "cell_type": "code",
   "execution_count": 46,
   "metadata": {},
   "outputs": [
    {
     "data": {
      "image/png": "[encoded data removed]",
      "text/plain": [
       "<matplotlib.figure.Figure at 0x7feaaff212d0>"
      ]
     },
     "metadata": {},
     "output_type": "display_data"
    },
    {
     "name": "stdout",
     "output_type": "stream",
     "text": [
      "('ground truth box coordinates: ', array([ 32.05251475,  51.69710482,  87.94748525,  68.30289518,   2.4       ]), 'gt shape :', (5,))\n",
      "------------------------------------------\n",
      "('Image shape', (1, 3, 240, 240))\n"
     ]
    }
   ],
   "source": [
    "\n",
    "angle= np.deg2rad(96)\n",
    "img_size = 240\n",
    "center= [60,60]\n",
    "dimensions =[30,50] \n",
    "\n",
    "rtm = Rotated_image()\n",
    "\n",
    "\n",
    "rot_gt_box,rot_img= rtm.generate_rot_image(center,dimensions,2.4,plot_image=True )    \n",
    "print('ground truth box coordinates: ' ,rot_gt_box,'gt shape :' ,rot_gt_box.shape)\n",
    "print('------------------------------------------')\n",
    "print('Image shape', rot_img.shape)\n"
   ]
  },
  {
   "cell_type": "code",
   "execution_count": 92,
   "metadata": {
    "collapsed": true
   },
   "outputs": [],
   "source": [
    "\n",
    "\n"
   ]
  },
  {
   "cell_type": "code",
   "execution_count": 93,
   "metadata": {
    "scrolled": false
   },
   "outputs": [
    {
     "data": {
      "image/png": "[encoded data removed]",
      "text/plain": [
       "<matplotlib.figure.Figure at 0x7feab0fa6690>"
      ]
     },
     "metadata": {},
     "output_type": "display_data"
    },
    {
     "data": {
      "image/png": "[encoded data removed]",
      "text/plain": [
       "<matplotlib.figure.Figure at 0x7feab0fa64d0>"
      ]
     },
     "metadata": {},
     "output_type": "display_data"
    },
    {
     "data": {
      "image/png": "[encoded data removed]",
      "text/plain": [
       "<matplotlib.figure.Figure at 0x7feaaf361b50>"
      ]
     },
     "metadata": {},
     "output_type": "display_data"
    },
    {
     "data": {
      "image/png": "[encoded data removed]",
      "text/plain": [
       "<matplotlib.figure.Figure at 0x7feaaff0ae10>"
      ]
     },
     "metadata": {},
     "output_type": "display_data"
    },
    {
     "data": {
      "image/png": "[encoded data removed]",
      "text/plain": [
       "<matplotlib.figure.Figure at 0x7feaaf366e10>"
      ]
     },
     "metadata": {},
     "output_type": "display_data"
    },
    {
     "data": {
      "image/png": "[encoded data removed]",
      "text/plain": [
       "<matplotlib.figure.Figure at 0x7feab12f9ad0>"
      ]
     },
     "metadata": {},
     "output_type": "display_data"
    },
    {
     "data": {
      "image/png": "[encoded data removed]",
      "text/plain": [
       "<matplotlib.figure.Figure at 0x7feafbae4d90>"
      ]
     },
     "metadata": {},
     "output_type": "display_data"
    },
    {
     "data": {
      "image/png": "[encoded data removed]",
      "text/plain": [
       "<matplotlib.figure.Figure at 0x7feab018f690>"
      ]
     },
     "metadata": {},
     "output_type": "display_data"
    },
    {
     "data": {
      "image/png": "[encoded data removed]",
      "text/plain": [
       "<matplotlib.figure.Figure at 0x7feab144ef50>"
      ]
     },
     "metadata": {},
     "output_type": "display_data"
    },
    {
     "data": {
      "image/png": "[encoded data removed]",
      "text/plain": [
       "<matplotlib.figure.Figure at 0x7feab0255350>"
      ]
     },
     "metadata": {},
     "output_type": "display_data"
    }
   ],
   "source": [
    "rot_gt_box, rot_gt_imgs = generate_batch( num=10, h=50, w= 30, img_size= 240)"
   ]
  },
  {
   "cell_type": "code",
   "execution_count": 95,
   "metadata": {},
   "outputs": [
    {
     "data": {
      "text/plain": [
       "(10, 3, 5)"
      ]
     },
     "execution_count": 95,
     "metadata": {},
     "output_type": "execute_result"
    }
   ],
   "source": [
    "rot_gt_box.shape"
   ]
  },
  {
   "cell_type": "code",
   "execution_count": 113,
   "metadata": {
    "collapsed": true
   },
   "outputs": [],
   "source": [
    "rot_imgs_down, rot_labels_down = fn.downsample(rot_gt_imgs,rot_gt_box)\n",
    "rot_class, rot_loc = fn.encode_y(rot_imgs_down,rot_labels_down)"
   ]
  },
  {
   "cell_type": "code",
   "execution_count": 124,
   "metadata": {},
   "outputs": [
    {
     "data": {
      "image/png": "[encoded data removed]",
      "text/plain": [
       "<matplotlib.figure.Figure at 0x7feaaeaa1550>"
      ]
     },
     "metadata": {},
     "output_type": "display_data"
    }
   ],
   "source": [
    "plt.figure()\n",
    "plt.imshow(rot_loc[1,2,:,:].data)\n",
    "plt.colorbar()\n",
    "plt.show()"
   ]
  },
  {
   "cell_type": "code",
   "execution_count": 125,
   "metadata": {},
   "outputs": [
    {
     "name": "stdout",
     "output_type": "stream",
     "text": [
      "env: http_proxy=http://proxy.ncbs.res.in:3128\n",
      "env: https_proxy=http://proxy.ncbs.res.in:3128\n"
     ]
    }
   ],
   "source": [
    "%env http_proxy http://proxy.ncbs.res.in:3128\n",
    "%env https_proxy http://proxy.ncbs.res.in:3128"
   ]
  },
  {
   "cell_type": "code",
   "execution_count": 126,
   "metadata": {},
   "outputs": [
    {
     "name": "stdout",
     "output_type": "stream",
     "text": [
      "error: pathspec 'rotated box generation code' did not match any file(s) known to git.\r\n"
     ]
    }
   ],
   "source": [
    "!git commit "
   ]
  },
  {
   "cell_type": "code",
   "execution_count": 127,
   "metadata": {
    "collapsed": true
   },
   "outputs": [],
   "source": [
    "!git add rotated_images.ipynb"
   ]
  },
  {
   "cell_type": "code",
   "execution_count": 128,
   "metadata": {},
   "outputs": [
    {
     "name": "stdout",
     "output_type": "stream",
     "text": [
      "[pawan_files 8c92af4] rotated box generation code\r\n",
      " 1 file changed, 447 insertions(+)\r\n",
      " create mode 100644 rotated_images.ipynb\r\n"
     ]
    }
   ],
   "source": [
    "!git commit -m  \"rotated box generation code\" "
   ]
  },
  {
   "cell_type": "code",
   "execution_count": 129,
   "metadata": {},
   "outputs": [
    {
     "name": "stdout",
     "output_type": "stream",
     "text": [
      "warning: push.default is unset; its implicit value has changed in\n",
      "Git 2.0 from 'matching' to 'simple'. To squelch this message\n",
      "and maintain the traditional behavior, use:\n",
      "\n",
      "  git config --global push.default matching\n",
      "\n",
      "To squelch this message and adopt the new behavior now, use:\n",
      "\n",
      "  git config --global push.default simple\n",
      "\n",
      "When push.default is set to 'matching', git will push local branches\n",
      "to the remote branches that already exist with the same name.\n",
      "\n",
      "Since Git 2.0, Git defaults to the more conservative 'simple'\n",
      "behavior, which only pushes the current branch to the corresponding\n",
      "remote branch that 'git pull' uses to update the current branch.\n",
      "\n",
      "See 'git help config' and search for 'push.default' for further information.\n",
      "(the 'simple' mode was introduced in Git 1.7.11. Use the similar mode\n",
      "'current' instead of 'simple' if you sometimes use older versions of Git)\n",
      "\n",
      "Counting objects: 3, done.\n",
      "Delta compression using up to 20 threads.\n",
      "Compressing objects: 100% (3/3), done.\n",
      "Writing objects: 100% (3/3), 43.04 KiB | 0 bytes/s, done.\n",
      "Total 3 (delta 1), reused 0 (delta 0)\n",
      "remote: \n",
      "remote: To create a merge request for pawan_files, visit:\u001b[K\n",
      "remote:   https://gitlab.com/thutupallilab/neural_rotation_detector/merge_requests/new?merge_request%5Bsource_branch%5D=pawan_files\u001b[K\n",
      "remote: \n",
      "To https://gitlab.com/thutupallilab/neural_rotation_detector.git\n",
      "   67a5677..8c92af4  pawan_files -> pawan_files\n"
     ]
    }
   ],
   "source": [
    "!git push \n"
   ]
  },
  {
   "cell_type": "code",
   "execution_count": 131,
   "metadata": {},
   "outputs": [
    {
     "data": {
      "text/plain": [
       "(10, 3, 5)"
      ]
     },
     "execution_count": 131,
     "metadata": {},
     "output_type": "execute_result"
    }
   ],
   "source": [
    "rot_gt_box.shape"
   ]
  },
  {
   "cell_type": "code",
   "execution_count": null,
   "metadata": {
    "collapsed": true
   },
   "outputs": [],
   "source": []
  }
 ],
 "metadata": {
  "kernelspec": {
   "display_name": "Python 2",
   "language": "python",
   "name": "python2"
  },
  "language_info": {
   "codemirror_mode": {
    "name": "ipython",
    "version": 2
   },
   "file_extension": ".py",
   "mimetype": "text/x-python",
   "name": "python",
   "nbconvert_exporter": "python",
   "pygments_lexer": "ipython2",
   "version": "2.7.12"
  }
 },
 "nbformat": 4,
 "nbformat_minor": 2
}
