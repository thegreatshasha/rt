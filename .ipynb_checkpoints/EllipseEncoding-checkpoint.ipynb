{
 "cells": [
  {
   "cell_type": "code",
   "execution_count": 4,
   "metadata": {
    "collapsed": true
   },
   "outputs": [],
   "source": [
    "# Let's try ellipse encoding directly, no bullshit"
   ]
  },
  {
   "cell_type": "code",
   "execution_count": 96,
   "metadata": {},
   "outputs": [
    {
     "data": {
      "application/javascript": [
       "IPython.OutputArea.prototype._should_scroll = function(lines) {\n",
       "    return false;\n",
       "}"
      ],
      "text/plain": [
       "<IPython.core.display.Javascript object>"
      ]
     },
     "metadata": {},
     "output_type": "display_data"
    }
   ],
   "source": [
    "%%javascript\n",
    "IPython.OutputArea.prototype._should_scroll = function(lines) {\n",
    "    return false;\n",
    "}"
   ]
  },
  {
   "cell_type": "code",
   "execution_count": 15,
   "metadata": {
    "collapsed": true
   },
   "outputs": [],
   "source": [
    "\n",
    "from dataset_4channel import BeetleDataset\n",
    "import cv2\n",
    "import matplotlib.pyplot as plt\n",
    "import numpy as np"
   ]
  },
  {
   "cell_type": "code",
   "execution_count": 38,
   "metadata": {},
   "outputs": [
    {
     "data": {
      "image/png": "[encoded data removed]",
      "text/plain": [
       "<matplotlib.figure.Figure at 0x7f6ae51bb490>"
      ]
     },
     "metadata": {},
     "output_type": "display_data"
    }
   ],
   "source": [
    "raw_files = ['raw_densebox_1', 'raw_densebox_2', 'raw_densebox_3', 'raw_densebox_4', 'raw_densebox_5']\n",
    "label_files = ['class_lab_densebox_1', 'class_lab_densebox_2', 'class_lab_densebox_3', 'class_lab_densebox_4', 'class_lab_densebox_5']\n",
    "\n",
    "db = BeetleDataset(raw_files, label_files)\n",
    "#db = RotatedSquaresDataset()\n",
    "\n",
    "x_b,y_b,x_thresh_b=db.generate_batch(n=1)\n",
    "patch = x_thresh_b[0,0]\n",
    "plt.imshow(patch)\n",
    "plt.show()"
   ]
  },
  {
   "cell_type": "code",
   "execution_count": 242,
   "metadata": {},
   "outputs": [
    {
     "data": {
      "image/png": "[encoded data removed]",
      "text/plain": [
       "<matplotlib.figure.Figure at 0x7f6ae5106210>"
      ]
     },
     "metadata": {},
     "output_type": "display_data"
    }
   ],
   "source": [
    "\"\"\" Sloppy code for doing drawing \"\"\"\n",
    "\n",
    "from skimage.measure import label, regionprops\n",
    "from skimage.draw import ellipse\n",
    "import math\n",
    "\n",
    "plt.figure(figsize=(10,10))\n",
    "#for angle in range(0,180,5):\n",
    "patch2 = np.zeros((240,240))\n",
    "\n",
    "# Draw an ellipse\n",
    "angle = math.pi/8\n",
    "#cv2.ellipse(patch2, ((100,100),(100,20),angle), color=(255,0,0), thickness=20)\n",
    "rr,cc=ellipse(50,100,10,50,patch2.shape, rotation=angle)\n",
    "patch2[rr,cc]=1\n",
    "# Let's do some labelling\n",
    "\n",
    "# Fuck this, let's switch to skimage and regionprops\n",
    "# THis documentation sucks\n",
    "# Extracting points and drawing line\n",
    "angle_extracted = regionprops(label(patch2))[0].orientation\n",
    "region =regionprops(label(patch2))[0]\n",
    "\n",
    "r1 = int(region.centroid[0])\n",
    "c1 = int(region.centroid[1])\n",
    "r2  = int(r1 + region.major_axis_length/2*np.cos(angle_extracted))\n",
    "c2 = int(c1 + region.major_axis_length/2*np.sin(angle_extracted))\n",
    "\n",
    "from skimage.draw import line\n",
    "rr,cc=line(r1,c1,r2,c2)\n",
    "patch2[rr,cc]=1\n",
    "plt.imshow(patch2)\n",
    "plt.show()"
   ]
  },
  {
   "cell_type": "code",
   "execution_count": 237,
   "metadata": {},
   "outputs": [
    {
     "data": {
      "text/plain": [
       "<function skimage.draw.draw.line>"
      ]
     },
     "execution_count": 237,
     "metadata": {},
     "output_type": "execute_result"
    }
   ],
   "source": [
    "line"
   ]
  },
  {
   "cell_type": "code",
   "execution_count": null,
   "metadata": {
    "collapsed": true
   },
   "outputs": [],
   "source": []
  }
 ],
 "metadata": {
  "kernelspec": {
   "display_name": "Python 2",
   "language": "python",
   "name": "python2"
  },
  "language_info": {
   "codemirror_mode": {
    "name": "ipython",
    "version": 2
   },
   "file_extension": ".py",
   "mimetype": "text/x-python",
   "name": "python",
   "nbconvert_exporter": "python",
   "pygments_lexer": "ipython2",
   "version": "2.7.12"
  }
 },
 "nbformat": 4,
 "nbformat_minor": 2
}
